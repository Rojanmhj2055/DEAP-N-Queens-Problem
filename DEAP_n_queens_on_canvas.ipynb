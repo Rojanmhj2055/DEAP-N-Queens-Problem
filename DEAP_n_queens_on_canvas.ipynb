{
 "cells": [
  {
   "cell_type": "markdown",
   "metadata": {
    "colab_type": "text",
    "id": "GxGA1SMjVOTm"
   },
   "source": [
    "## Project 4:  Solving N-Queens Problem using Genetic Algorithms\n",
    "\n",
    "#### CSC 180  Intelligent Systems\n",
    "\n",
    "#### Dr. Haiquan Chen, California State University, Sacramento\n"
   ]
  },
  {
   "cell_type": "code",
   "execution_count": 12,
   "metadata": {},
   "outputs": [],
   "source": [
    "#NAME: Rojan Maharjan\n",
    "#ID: 301855982\n",
    "#Course Title: CSC180\n",
    "#Assignment ID: Project 4\n",
    "#Due date: Nov 18 by 10 AM\n",
    "\n"
   ]
  },
  {
   "cell_type": "markdown",
   "metadata": {
    "colab_type": "text",
    "id": "HibX8kusV5PD"
   },
   "source": [
    "\n",
    "## Part I: Position-index-based board representation"
   ]
  },
  {
   "cell_type": "code",
   "execution_count": 44,
   "metadata": {
    "colab": {},
    "colab_type": "code",
    "id": "LcEVm7paVOTo"
   },
   "outputs": [
    {
     "name": "stderr",
     "output_type": "stream",
     "text": [
      "c:\\Users\\Rojan\\AppData\\Local\\Programs\\Python\\Python310\\lib\\site-packages\\deap\\creator.py:138: RuntimeWarning: A class named 'FitnessMin' has already been created and it will be overwritten. Consider deleting previous creation of that class or rename it.\n",
      "  warnings.warn(\"A class named '{0}' has already been created and it \"\n",
      "c:\\Users\\Rojan\\AppData\\Local\\Programs\\Python\\Python310\\lib\\site-packages\\deap\\creator.py:138: RuntimeWarning: A class named 'Individual' has already been created and it will be overwritten. Consider deleting previous creation of that class or rename it.\n",
      "  warnings.warn(\"A class named '{0}' has already been created and it \"\n"
     ]
    }
   ],
   "source": [
    "import random\n",
    "import numpy as np\n",
    "from deap import algorithms, base, creator, tools\n",
    "\n",
    "creator.create(\"FitnessMin\", base.Fitness, weights=(-1.0,))\n",
    "creator.create(\"Individual\", list, fitness=creator.FitnessMin)\n"
   ]
  },
  {
   "cell_type": "code",
   "execution_count": 45,
   "metadata": {
    "colab": {},
    "colab_type": "code",
    "id": "AjYwh9eYVOTt"
   },
   "outputs": [],
   "source": [
    "def create_individual():\n",
    "    return random.sample(range(64), 8)"
   ]
  },
  {
   "cell_type": "code",
   "execution_count": 46,
   "metadata": {
    "colab": {},
    "colab_type": "code",
    "id": "V3rgKtu_VOTv"
   },
   "outputs": [
    {
     "name": "stdout",
     "output_type": "stream",
     "text": [
      "[46, 19, 40, 41, 42, 28, 59, 56]\n"
     ]
    }
   ],
   "source": [
    "print(create_individual())"
   ]
  },
  {
   "cell_type": "code",
   "execution_count": 47,
   "metadata": {
    "colab": {},
    "colab_type": "code",
    "id": "ekoiWdxDVOTy"
   },
   "outputs": [],
   "source": [
    "def show_grid(board):\n",
    "    \n",
    "    n = [0]*64\n",
    "    for i in board:\n",
    "        n[i] = 1\n",
    "    \n",
    "    \n",
    "    for i in range(8):\n",
    "        for j in range(64):\n",
    "            if j // 8 == i:\n",
    "                if n[j] == 1:\n",
    "                    print('X',end=\"|\")\n",
    "                else:\n",
    "                    print('-',end=\"|\")\n",
    "        print()\n",
    "        print(\"----------------\")\n"
   ]
  },
  {
   "cell_type": "code",
   "execution_count": 48,
   "metadata": {},
   "outputs": [
    {
     "name": "stdout",
     "output_type": "stream",
     "text": [
      "-|-|X|X|-|-|-|-|\n",
      "----------------\n",
      "-|-|X|-|-|-|-|-|\n",
      "----------------\n",
      "-|-|-|-|-|-|-|-|\n",
      "----------------\n",
      "X|-|-|-|-|-|-|-|\n",
      "----------------\n",
      "-|-|X|-|-|X|X|-|\n",
      "----------------\n",
      "-|-|-|-|-|-|-|-|\n",
      "----------------\n",
      "-|-|-|-|-|-|-|-|\n",
      "----------------\n",
      "-|-|X|-|-|-|-|-|\n",
      "----------------\n"
     ]
    }
   ],
   "source": [
    "s = create_individual()\n",
    "show_grid(s)"
   ]
  },
  {
   "cell_type": "code",
   "execution_count": 49,
   "metadata": {
    "colab": {},
    "colab_type": "code",
    "id": "N8XtgeUKVOT0"
   },
   "outputs": [],
   "source": [
    "toolbox = base.Toolbox()\n",
    "\n",
    "toolbox.register(\"individual\", tools.initIterate, creator.Individual, create_individual)\n",
    "\n",
    "toolbox.register(\"population\", tools.initRepeat, list, toolbox.individual)"
   ]
  },
  {
   "cell_type": "code",
   "execution_count": 50,
   "metadata": {
    "colab": {},
    "colab_type": "code",
    "id": "YTk0VOT-VOT3"
   },
   "outputs": [
    {
     "name": "stdout",
     "output_type": "stream",
     "text": [
      "[0, 48, 11, 19, 8, 5, 12, 22]\n"
     ]
    }
   ],
   "source": [
    "pop = toolbox.population(n=5)\n",
    "\n",
    "print(pop[0])"
   ]
  },
  {
   "cell_type": "code",
   "execution_count": 51,
   "metadata": {
    "colab": {},
    "colab_type": "code",
    "id": "letgI4JkVOT6"
   },
   "outputs": [
    {
     "name": "stdout",
     "output_type": "stream",
     "text": [
      "X|-|-|-|-|X|-|-|\n",
      "----------------\n",
      "X|-|-|X|X|-|-|-|\n",
      "----------------\n",
      "-|-|-|X|-|-|X|-|\n",
      "----------------\n",
      "-|-|-|-|-|-|-|-|\n",
      "----------------\n",
      "-|-|-|-|-|-|-|-|\n",
      "----------------\n",
      "-|-|-|-|-|-|-|-|\n",
      "----------------\n",
      "X|-|-|-|-|-|-|-|\n",
      "----------------\n",
      "-|-|-|-|-|-|-|-|\n",
      "----------------\n"
     ]
    }
   ],
   "source": [
    "show_grid(pop[0])"
   ]
  },
  {
   "cell_type": "markdown",
   "metadata": {
    "colab_type": "text",
    "id": "qzj4Y0L5VOT8"
   },
   "source": [
    "### 10 pts:  Write your code in the cell below to define the \"evaFitness\" function, which returns the fitness of any given board.  \n",
    "\n",
    "- Noticed that in this case, mutation may generate invalid board, e.g., the board with dupliciate positions.  Think about   [5, 32, 8, 8, 41, 3, 55, 49]\n",
    "\n",
    "- How to exclude those invalid boards from each generation? One way is to add some penalty to the fitness value of invalid boards.  In that case, any invalid board will have a very high fitness value (remember that our goal is to find the board with least fitness value).    To do that, let's write a function ***checkDuplicate()*** to calculate the number of queen pairs in the same position for any given board.   ***Give each duplicate a high penalty (i.e., multiply by 20, 50) and add the penalty to the fitness value.*** \n",
    "\n",
    "-  evaFitness() returns the total number of duplicate position pair (with penalty) plus the total number of distinct pairs of queens that attack each other.  "
   ]
  },
  {
   "cell_type": "code",
   "execution_count": 17,
   "metadata": {},
   "outputs": [],
   "source": [
    "\n",
    "    \n",
    "    \n",
    "\n",
    "def temp(chromosome):\n",
    "    clashes = 0\n",
    "    row_col_clashes = abs(len(chromosome) - len(np.unique(chromosome)))\n",
    "    clashes += row_col_clashes\n",
    "\n",
    "    # calculate diagonal clashes\n",
    "    for i in range(len(chromosome)):\n",
    "        for j in range(len(chromosome)):\n",
    "            if ( i != j):\n",
    "                dx = abs(i-j) \n",
    "                dy = abs(chromosome[i] - chromosome[j])\n",
    "                if(dx == dy):\n",
    "                    clashes += 1\n",
    "    return clashes"
   ]
  },
  {
   "cell_type": "code",
   "execution_count": 52,
   "metadata": {
    "colab": {},
    "colab_type": "code",
    "id": "ZTHRSMRMVOT8"
   },
   "outputs": [],
   "source": [
    "\n",
    "# Calculate the number of queen pairs in the same position for any given board\n",
    "def checkDuplicate(individual):\n",
    "    dup = 0\n",
    "    ##Give each duplicate a high penalty (i.e., multiply by 20, 50)\n",
    "    penalty = 30\n",
    "    s =[]\n",
    "    for i in individual:\n",
    "        if i not in s:\n",
    "            s.append(i)\n",
    "        else:\n",
    "            dup = dup+1\n",
    "\n",
    "    dup = dup * penalty\n",
    "    return dup\n",
    "    \n",
    "#fitness function\n",
    "\n",
    "def evaFitness(individual):\n",
    "    \n",
    "    conflict = 0\n",
    "    dimension = len(individual)\n",
    "    \n",
    "    for x in range (len(individual)):\n",
    "        x_row, x_column = individual[x] // dimension, individual[x] % dimension\n",
    "        for y in range (x+1,len(individual)):\n",
    "            y_row , y_column = individual[y] //dimension, individual[y] % dimension\n",
    "            if x_row == y_row or x_column == y_column or abs(x_row - y_row)== abs(x_column-y_column):\n",
    "                conflict +=1\n",
    "    return (checkDuplicate(individual) + conflict)\n",
    "    \n",
    "\n",
    "    "
   ]
  },
  {
   "cell_type": "markdown",
   "metadata": {
    "colab_type": "text",
    "id": "tikbcB_kVOT-"
   },
   "source": [
    "### 5 pts:  Writer your code in the cell below to register \"evaluate\" function to toolbox"
   ]
  },
  {
   "cell_type": "code",
   "execution_count": 53,
   "metadata": {
    "colab": {},
    "colab_type": "code",
    "id": "bMjmesXqVOT_"
   },
   "outputs": [],
   "source": [
    "\n",
    "toolbox.register(\"evaluate\",evaFitness)\n",
    "\n",
    "\n",
    "\n",
    "\n"
   ]
  },
  {
   "cell_type": "code",
   "execution_count": 54,
   "metadata": {
    "colab": {},
    "colab_type": "code",
    "id": "_eDjyzBlVOUB"
   },
   "outputs": [],
   "source": [
    "toolbox.register(\"mate\", tools.cxTwoPoint)\n",
    "\n",
    "toolbox.register(\"mutate\", tools.mutUniformInt, low = 0, up = 63, indpb=0.1)\n",
    "\n",
    "toolbox.register(\"select\", tools.selTournament, tournsize=3)"
   ]
  },
  {
   "cell_type": "code",
   "execution_count": 55,
   "metadata": {
    "colab": {},
    "colab_type": "code",
    "id": "6uej76HoVOUD"
   },
   "outputs": [],
   "source": [
    "stats = tools.Statistics(key=lambda ind: ind.fitness.values)"
   ]
  },
  {
   "cell_type": "code",
   "execution_count": 56,
   "metadata": {
    "colab": {},
    "colab_type": "code",
    "id": "W8cWVXmxVOUH"
   },
   "outputs": [],
   "source": [
    "stats.register(\"avg\", np.mean)\n",
    "stats.register(\"min\", np.min)\n",
    "stats.register(\"max\",np.max)"
   ]
  },
  {
   "cell_type": "markdown",
   "metadata": {
    "colab_type": "text",
    "id": "OmnhqV_MVOUJ"
   },
   "source": [
    "### 10 pts:  Writer your code in the cell below to create the first generation, the hall of fame, and launch the genetic algorithm: eaSimple().   How many individuals you want to have for each generation and how many generations you want GA to go thourgh for each run?     Vary those two parameters to see the change. "
   ]
  },
  {
   "cell_type": "code",
   "execution_count": null,
   "metadata": {
    "colab": {},
    "colab_type": "code",
    "id": "SsTaPuPgVOUK"
   },
   "outputs": [],
   "source": [
    "\n",
    "generations = 100\n",
    "population_size = toolbox.population(n=100)\n",
    "crossover_prob = 0.5\n",
    "mutation_prob = 0.5\n",
    "hof = tools.HallOfFame(1)   ## create a hall of fame which stores only the best individual\n",
    "\n",
    "population_size, log1 =algorithms.eaSimple(population_size,toolbox,crossover_prob,mutation_prob,generations,stats,halloffame=hof,verbose=False)\n"
   ]
  },
  {
   "cell_type": "code",
   "execution_count": null,
   "metadata": {},
   "outputs": [],
   "source": [
    "generations = 100\n",
    "population_size2 = toolbox.population(n=500)\n",
    "hof2 = tools.HallOfFame(1)\n",
    "population_size2, log2 =algorithms.eaSimple(population_size2,toolbox,crossover_prob,mutation_prob,generations,stats,halloffame=hof2,verbose=False)\n"
   ]
  },
  {
   "cell_type": "code",
   "execution_count": 64,
   "metadata": {},
   "outputs": [
    {
     "name": "stdout",
     "output_type": "stream",
     "text": [
      "Best Individual for population size 100 and generations 100 is: [22, 59, 8, 28, 34, 9, 5, 47]\n",
      "Best Individual for population size 500 and generations 100 is: [1, 13, 18, 24, 39, 47, 52, 62]\n"
     ]
    }
   ],
   "source": [
    "\n",
    "print(f\"Best Individual for population size 100 and generations {generations} is: {hof[0]}\") \n",
    "print(f\"Best Individual for population size 500 and generations {generations} is: {hof2[0]}\")"
   ]
  },
  {
   "cell_type": "code",
   "execution_count": 78,
   "metadata": {},
   "outputs": [
    {
     "name": "stdout",
     "output_type": "stream",
     "text": [
      "gen\tnevals\tavg    \tmin\tmax\n",
      "0  \t2500  \t10.1396\t4  \t19 \n",
      "1  \t1912  \t13.028 \t4  \t76 \n",
      "2  \t1832  \t11.978 \t3  \t74 \n",
      "3  \t1861  \t11.1692\t3  \t72 \n",
      "4  \t1838  \t10.9504\t2  \t73 \n",
      "5  \t1841  \t10.7072\t2  \t71 \n",
      "6  \t1835  \t10.5548\t2  \t73 \n",
      "7  \t1865  \t10.5196\t2  \t74 \n",
      "8  \t1862  \t10.0604\t2  \t73 \n",
      "9  \t1896  \t10.5288\t2  \t99 \n",
      "10 \t1869  \t10.2204\t1  \t75 \n",
      "11 \t1883  \t9.8852 \t1  \t74 \n",
      "12 \t1874  \t9.9896 \t1  \t71 \n",
      "13 \t1864  \t10.0124\t2  \t97 \n",
      "14 \t1868  \t9.786  \t2  \t76 \n",
      "15 \t1912  \t9.5864 \t1  \t70 \n",
      "16 \t1943  \t10.1072\t1  \t72 \n",
      "17 \t1882  \t9.8276 \t1  \t99 \n",
      "18 \t1912  \t9.6568 \t1  \t72 \n",
      "19 \t1836  \t9.0112 \t2  \t69 \n",
      "20 \t1873  \t9.302  \t2  \t71 \n",
      "21 \t1896  \t9.5244 \t1  \t101\n",
      "22 \t1875  \t8.85   \t1  \t72 \n",
      "23 \t1858  \t8.806  \t1  \t72 \n",
      "24 \t1908  \t8.8792 \t1  \t98 \n",
      "25 \t1884  \t9.1256 \t1  \t93 \n",
      "26 \t1844  \t8.3296 \t1  \t69 \n",
      "27 \t1892  \t8.3908 \t1  \t72 \n",
      "28 \t1847  \t8.1888 \t1  \t95 \n",
      "29 \t1880  \t8.0464 \t1  \t70 \n",
      "30 \t1844  \t7.5076 \t1  \t68 \n",
      "31 \t1859  \t7.642  \t1  \t69 \n",
      "32 \t1899  \t7.0936 \t1  \t74 \n",
      "33 \t1843  \t6.154  \t1  \t98 \n",
      "34 \t1872  \t5.6124 \t1  \t75 \n",
      "35 \t1896  \t4.9616 \t1  \t69 \n",
      "36 \t1882  \t4.7536 \t1  \t69 \n",
      "37 \t1878  \t4.534  \t1  \t70 \n",
      "38 \t1859  \t4.552  \t1  \t66 \n",
      "39 \t1860  \t4.1764 \t1  \t66 \n",
      "40 \t1929  \t4.5112 \t1  \t69 \n",
      "41 \t1900  \t4.2872 \t1  \t70 \n",
      "42 \t1894  \t3.9672 \t1  \t68 \n",
      "43 \t1928  \t4.0684 \t1  \t64 \n",
      "44 \t1901  \t3.8976 \t1  \t42 \n",
      "45 \t1862  \t3.7812 \t1  \t68 \n",
      "46 \t1821  \t3.6952 \t1  \t65 \n",
      "47 \t1819  \t3.5956 \t1  \t68 \n",
      "48 \t1888  \t3.7336 \t1  \t63 \n",
      "49 \t1890  \t3.5112 \t1  \t69 \n",
      "50 \t1871  \t3.5664 \t1  \t65 \n",
      "51 \t1842  \t3.492  \t1  \t64 \n",
      "52 \t1832  \t3.3172 \t1  \t67 \n",
      "53 \t1889  \t3.4064 \t1  \t67 \n",
      "54 \t1853  \t3.3396 \t1  \t70 \n",
      "55 \t1922  \t3.3652 \t1  \t67 \n",
      "56 \t1883  \t3.3092 \t1  \t66 \n",
      "57 \t1892  \t3.4952 \t1  \t70 \n",
      "58 \t1904  \t3.268  \t1  \t64 \n",
      "59 \t1851  \t3.1688 \t1  \t62 \n",
      "60 \t1894  \t3.2724 \t1  \t65 \n",
      "61 \t1899  \t3.3344 \t1  \t64 \n",
      "62 \t1807  \t3.1808 \t1  \t67 \n",
      "63 \t1886  \t2.9976 \t1  \t67 \n",
      "64 \t1835  \t3.314  \t1  \t67 \n",
      "65 \t1900  \t3.4236 \t1  \t68 \n",
      "66 \t1897  \t3.2316 \t1  \t72 \n",
      "67 \t1882  \t3.1796 \t1  \t69 \n",
      "68 \t1905  \t3.3376 \t1  \t64 \n",
      "69 \t1859  \t3.0788 \t1  \t68 \n",
      "70 \t1877  \t3.2672 \t1  \t64 \n",
      "71 \t1837  \t3.0692 \t1  \t63 \n",
      "72 \t1894  \t3.3924 \t1  \t69 \n",
      "73 \t1834  \t3.0444 \t1  \t40 \n",
      "74 \t1863  \t3.2728 \t1  \t63 \n",
      "75 \t1882  \t3.2636 \t1  \t64 \n",
      "76 \t1882  \t3.1744 \t1  \t64 \n",
      "77 \t1892  \t3.0404 \t1  \t67 \n",
      "78 \t1902  \t2.9852 \t1  \t64 \n",
      "79 \t1881  \t3.104  \t1  \t75 \n",
      "80 \t1871  \t3.2496 \t1  \t68 \n",
      "81 \t1923  \t3.1796 \t1  \t69 \n",
      "82 \t1871  \t2.9292 \t1  \t39 \n",
      "83 \t1824  \t3.1468 \t1  \t67 \n",
      "84 \t1869  \t2.9748 \t1  \t67 \n",
      "85 \t1830  \t3.1848 \t1  \t64 \n",
      "86 \t1872  \t2.9788 \t1  \t42 \n",
      "87 \t1853  \t3.2292 \t1  \t66 \n",
      "88 \t1916  \t3.2672 \t1  \t42 \n",
      "89 \t1886  \t3.1896 \t1  \t67 \n",
      "90 \t1893  \t3.1908 \t1  \t70 \n",
      "91 \t1845  \t3.2856 \t1  \t67 \n",
      "92 \t1881  \t3.194  \t1  \t69 \n",
      "93 \t1862  \t3.1164 \t1  \t64 \n",
      "94 \t1870  \t3.0372 \t1  \t63 \n",
      "95 \t1933  \t3.2616 \t1  \t64 \n",
      "96 \t1894  \t3.0752 \t1  \t40 \n",
      "97 \t1899  \t3.34   \t1  \t74 \n",
      "98 \t1837  \t3.1408 \t1  \t64 \n",
      "99 \t1829  \t3.3328 \t1  \t65 \n",
      "100\t1901  \t3.1308 \t1  \t67 \n",
      "101\t1902  \t2.9396 \t1  \t39 \n",
      "102\t1902  \t3.1144 \t1  \t39 \n",
      "103\t1883  \t3.2684 \t1  \t63 \n",
      "104\t1853  \t3.2724 \t1  \t64 \n",
      "105\t1849  \t3.022  \t1  \t64 \n",
      "106\t1843  \t3.3352 \t1  \t64 \n",
      "107\t1867  \t3.3136 \t1  \t66 \n",
      "108\t1889  \t3.2852 \t1  \t71 \n",
      "109\t1870  \t3.1636 \t1  \t63 \n",
      "110\t1853  \t3.3064 \t1  \t62 \n",
      "111\t1855  \t3.1948 \t1  \t64 \n",
      "112\t1893  \t3.2716 \t1  \t62 \n",
      "113\t1845  \t3.2348 \t1  \t63 \n",
      "114\t1859  \t3.0376 \t1  \t64 \n",
      "115\t1862  \t3.3232 \t1  \t69 \n",
      "116\t1895  \t3.4272 \t1  \t71 \n",
      "117\t1876  \t3.1948 \t1  \t95 \n",
      "118\t1892  \t3.1816 \t1  \t67 \n",
      "119\t1935  \t3.1912 \t1  \t41 \n",
      "120\t1882  \t3.1296 \t1  \t63 \n",
      "121\t1893  \t3.2664 \t1  \t68 \n",
      "122\t1872  \t3.2488 \t1  \t67 \n",
      "123\t1849  \t3.1124 \t1  \t40 \n",
      "124\t1902  \t3.2828 \t1  \t41 \n",
      "125\t1843  \t2.9968 \t1  \t62 \n",
      "126\t1894  \t3.0908 \t1  \t70 \n",
      "127\t1881  \t3.0576 \t1  \t64 \n",
      "128\t1881  \t3.498  \t1  \t67 \n",
      "129\t1874  \t3.0264 \t1  \t67 \n",
      "130\t1813  \t3.1356 \t1  \t69 \n",
      "131\t1876  \t3.37   \t1  \t70 \n",
      "132\t1894  \t3.1412 \t1  \t39 \n",
      "133\t1924  \t3.2984 \t1  \t65 \n",
      "134\t1862  \t3.192  \t1  \t94 \n",
      "135\t1872  \t2.8224 \t1  \t62 \n",
      "136\t1878  \t3.272  \t1  \t65 \n",
      "137\t1884  \t3.238  \t1  \t69 \n",
      "138\t1881  \t3.4364 \t1  \t63 \n",
      "139\t1917  \t3.2244 \t1  \t66 \n",
      "140\t1872  \t3.3468 \t1  \t63 \n",
      "141\t1922  \t3.17   \t1  \t67 \n",
      "142\t1841  \t3.154  \t1  \t68 \n",
      "143\t1829  \t2.9928 \t1  \t64 \n",
      "144\t1859  \t3.3196 \t1  \t64 \n",
      "145\t1900  \t3.1368 \t1  \t72 \n",
      "146\t1868  \t2.9852 \t1  \t69 \n",
      "147\t1858  \t3.2968 \t1  \t66 \n",
      "148\t1921  \t2.9344 \t1  \t71 \n",
      "149\t1847  \t3.1448 \t1  \t70 \n",
      "150\t1872  \t3.3296 \t1  \t68 \n",
      "151\t1863  \t2.9508 \t1  \t68 \n",
      "152\t1857  \t3.1564 \t1  \t100\n",
      "153\t1907  \t3.3364 \t1  \t62 \n",
      "154\t1869  \t3.0856 \t1  \t66 \n",
      "155\t1825  \t2.9716 \t1  \t42 \n",
      "156\t1881  \t3.2228 \t1  \t70 \n",
      "157\t1882  \t3.3152 \t1  \t67 \n",
      "158\t1895  \t3.0892 \t1  \t62 \n",
      "159\t1846  \t3.072  \t1  \t70 \n",
      "160\t1870  \t3.3136 \t1  \t67 \n",
      "161\t1823  \t3.1856 \t1  \t75 \n",
      "162\t1857  \t3.4852 \t1  \t64 \n",
      "163\t1847  \t3.0688 \t1  \t62 \n",
      "164\t1863  \t3.0648 \t1  \t66 \n",
      "165\t1920  \t3.364  \t1  \t68 \n",
      "166\t1886  \t3.2716 \t1  \t68 \n",
      "167\t1885  \t3.1772 \t1  \t64 \n",
      "168\t1856  \t3.2216 \t1  \t67 \n",
      "169\t1882  \t3.0952 \t1  \t64 \n",
      "170\t1892  \t3.3728 \t1  \t64 \n",
      "171\t1873  \t3.1752 \t1  \t64 \n",
      "172\t1874  \t3.1388 \t1  \t70 \n",
      "173\t1902  \t3.3952 \t1  \t66 \n",
      "174\t1867  \t3.1072 \t1  \t41 \n",
      "175\t1863  \t2.8808 \t1  \t70 \n",
      "176\t1854  \t2.95   \t1  \t64 \n",
      "177\t1874  \t3.4496 \t1  \t65 \n",
      "178\t1855  \t3.042  \t1  \t41 \n",
      "179\t1872  \t3.2104 \t1  \t63 \n",
      "180\t1881  \t3.3216 \t1  \t65 \n",
      "181\t1912  \t3.2704 \t1  \t64 \n",
      "182\t1812  \t3.048  \t1  \t64 \n",
      "183\t1884  \t3.172  \t1  \t66 \n",
      "184\t1869  \t3.1032 \t1  \t65 \n",
      "185\t1932  \t3.3132 \t1  \t73 \n",
      "186\t1897  \t3.3308 \t1  \t68 \n",
      "187\t1904  \t3.198  \t1  \t64 \n",
      "188\t1870  \t3.1976 \t1  \t65 \n",
      "189\t1896  \t3.196  \t1  \t64 \n",
      "190\t1881  \t3.234  \t1  \t68 \n",
      "191\t1869  \t3.06   \t1  \t66 \n",
      "192\t1923  \t3.4276 \t1  \t66 \n",
      "193\t1884  \t3.0864 \t1  \t66 \n",
      "194\t1843  \t3.1576 \t1  \t67 \n",
      "195\t1896  \t3.3092 \t1  \t70 \n",
      "196\t1896  \t3.2164 \t1  \t66 \n",
      "197\t1840  \t3.1044 \t1  \t63 \n",
      "198\t1865  \t3.3852 \t1  \t65 \n",
      "199\t1873  \t3.4192 \t1  \t70 \n",
      "200\t1876  \t3.332  \t1  \t68 \n",
      "201\t1889  \t3.1492 \t1  \t65 \n",
      "202\t1890  \t3.2796 \t1  \t66 \n",
      "203\t1839  \t3.16   \t1  \t37 \n",
      "204\t1883  \t2.8736 \t1  \t63 \n",
      "205\t1857  \t2.978  \t1  \t39 \n",
      "206\t1876  \t3.1672 \t1  \t64 \n",
      "207\t1884  \t3.0964 \t1  \t93 \n",
      "208\t1873  \t3.2692 \t1  \t64 \n",
      "209\t1882  \t3.1652 \t1  \t62 \n",
      "210\t1888  \t3.23   \t1  \t67 \n",
      "211\t1886  \t3.1528 \t1  \t67 \n",
      "212\t1829  \t3.2984 \t1  \t66 \n",
      "213\t1894  \t3.4376 \t1  \t67 \n",
      "214\t1884  \t3.4256 \t1  \t66 \n",
      "215\t1871  \t3.0976 \t1  \t63 \n",
      "216\t1826  \t3.1736 \t1  \t73 \n",
      "217\t1878  \t3.2236 \t1  \t68 \n",
      "218\t1902  \t3.3408 \t1  \t66 \n",
      "219\t1912  \t3.0948 \t1  \t67 \n",
      "220\t1861  \t3.2888 \t1  \t64 \n",
      "221\t1824  \t3.222  \t1  \t64 \n",
      "222\t1845  \t3.094  \t1  \t64 \n",
      "223\t1859  \t3.0332 \t1  \t64 \n",
      "224\t1820  \t3.148  \t1  \t69 \n",
      "225\t1837  \t2.8352 \t1  \t62 \n",
      "226\t1867  \t3.1964 \t1  \t66 \n",
      "227\t1864  \t3.344  \t1  \t67 \n",
      "228\t1877  \t3.206  \t1  \t64 \n",
      "229\t1858  \t3.1636 \t1  \t63 \n",
      "230\t1873  \t3.3232 \t1  \t63 \n",
      "231\t1900  \t3.4016 \t1  \t67 \n",
      "232\t1867  \t3.368  \t1  \t70 \n",
      "233\t1926  \t3.4468 \t1  \t66 \n",
      "234\t1872  \t2.9648 \t1  \t72 \n",
      "235\t1869  \t3.3404 \t1  \t68 \n",
      "236\t1877  \t3.4528 \t1  \t63 \n",
      "237\t1853  \t3.282  \t1  \t68 \n",
      "238\t1901  \t3.3772 \t1  \t64 \n",
      "239\t1846  \t3.3272 \t1  \t45 \n",
      "240\t1848  \t3.0132 \t1  \t67 \n",
      "241\t1873  \t2.9936 \t1  \t63 \n",
      "242\t1902  \t3.1288 \t1  \t70 \n",
      "243\t1896  \t3.26   \t1  \t70 \n",
      "244\t1852  \t3.1564 \t1  \t75 \n",
      "245\t1899  \t3.2924 \t1  \t62 \n",
      "246\t1882  \t3.3844 \t1  \t68 \n",
      "247\t1904  \t3.2228 \t1  \t66 \n",
      "248\t1908  \t3.2996 \t1  \t67 \n",
      "249\t1888  \t3.0672 \t1  \t40 \n",
      "250\t1836  \t3.1552 \t1  \t64 \n",
      "251\t1895  \t3.2388 \t1  \t62 \n",
      "252\t1914  \t3.346  \t1  \t66 \n",
      "253\t1858  \t3.4204 \t1  \t64 \n",
      "254\t1879  \t3.1944 \t1  \t70 \n",
      "255\t1865  \t3.264  \t1  \t67 \n",
      "256\t1884  \t3.014  \t1  \t64 \n",
      "257\t1905  \t3.4824 \t1  \t66 \n",
      "258\t1911  \t3.3412 \t1  \t68 \n",
      "259\t1854  \t3.2852 \t1  \t64 \n",
      "260\t1865  \t3.32   \t1  \t41 \n",
      "261\t1899  \t3.3368 \t1  \t68 \n",
      "262\t1930  \t3.234  \t1  \t64 \n",
      "263\t1868  \t3.0448 \t1  \t64 \n",
      "264\t1890  \t3.2592 \t1  \t63 \n",
      "265\t1880  \t3.4392 \t1  \t68 \n",
      "266\t1904  \t3.2128 \t1  \t67 \n",
      "267\t1865  \t3.0064 \t1  \t94 \n",
      "268\t1863  \t3.1356 \t1  \t64 \n",
      "269\t1949  \t3.0616 \t1  \t40 \n",
      "270\t1859  \t3.3176 \t1  \t67 \n",
      "271\t1873  \t3.3152 \t1  \t69 \n",
      "272\t1894  \t3.1764 \t1  \t66 \n",
      "273\t1860  \t3.04   \t1  \t66 \n",
      "274\t1883  \t3.3296 \t1  \t67 \n",
      "275\t1908  \t3.4372 \t1  \t71 \n",
      "276\t1846  \t3.0708 \t1  \t40 \n",
      "277\t1908  \t3.1896 \t1  \t67 \n",
      "278\t1874  \t3.2984 \t1  \t65 \n",
      "279\t1863  \t3.368  \t1  \t67 \n",
      "280\t1903  \t3.3028 \t1  \t95 \n",
      "281\t1854  \t3.3352 \t1  \t68 \n",
      "282\t1836  \t2.9988 \t1  \t64 \n",
      "283\t1878  \t3.1888 \t1  \t71 \n",
      "284\t1853  \t3.2008 \t1  \t69 \n",
      "285\t1856  \t3.312  \t1  \t67 \n",
      "286\t1894  \t3.014  \t1  \t66 \n",
      "287\t1868  \t3.232  \t1  \t64 \n",
      "288\t1835  \t3.0916 \t1  \t68 \n",
      "289\t1850  \t3.2044 \t1  \t65 \n",
      "290\t1868  \t3.2664 \t1  \t71 \n",
      "291\t1895  \t3.0824 \t1  \t64 \n",
      "292\t1905  \t3.252  \t1  \t64 \n",
      "293\t1879  \t3.3608 \t1  \t62 \n",
      "294\t1848  \t3.126  \t1  \t63 \n",
      "295\t1847  \t3.1636 \t1  \t67 \n",
      "296\t1856  \t3.3424 \t1  \t67 \n",
      "297\t1895  \t3.3164 \t1  \t66 \n",
      "298\t1846  \t3.33   \t1  \t67 \n",
      "299\t1846  \t3.3032 \t1  \t68 \n",
      "300\t1870  \t3.2092 \t1  \t67 \n",
      "301\t1885  \t3.104  \t1  \t93 \n",
      "302\t1857  \t3.0052 \t1  \t67 \n",
      "303\t1886  \t3.032  \t1  \t66 \n",
      "304\t1800  \t3.1716 \t1  \t39 \n",
      "305\t1872  \t3.1556 \t1  \t72 \n",
      "306\t1850  \t3.0184 \t1  \t62 \n",
      "307\t1864  \t3.2132 \t1  \t69 \n",
      "308\t1883  \t3.2088 \t1  \t66 \n",
      "309\t1894  \t3.1848 \t1  \t66 \n",
      "310\t1881  \t3.3064 \t1  \t68 \n",
      "311\t1893  \t3.2644 \t1  \t66 \n",
      "312\t1858  \t2.9668 \t1  \t69 \n",
      "313\t1855  \t3.2576 \t1  \t66 \n",
      "314\t1896  \t2.9796 \t1  \t71 \n",
      "315\t1890  \t3.2076 \t1  \t66 \n",
      "316\t1859  \t3.2212 \t1  \t69 \n",
      "317\t1874  \t3.1036 \t1  \t64 \n",
      "318\t1849  \t3.1756 \t1  \t70 \n",
      "319\t1805  \t3.042  \t1  \t67 \n",
      "320\t1882  \t3.1332 \t1  \t63 \n",
      "321\t1891  \t2.9548 \t1  \t66 \n",
      "322\t1890  \t3.2824 \t1  \t64 \n",
      "323\t1876  \t3.3972 \t1  \t64 \n",
      "324\t1888  \t3.1348 \t1  \t63 \n",
      "325\t1876  \t3.2156 \t1  \t64 \n",
      "326\t1878  \t3.266  \t1  \t66 \n",
      "327\t1865  \t3.0476 \t1  \t65 \n",
      "328\t1893  \t3.246  \t1  \t66 \n",
      "329\t1880  \t3.0436 \t1  \t66 \n",
      "330\t1844  \t3.1804 \t1  \t74 \n",
      "331\t1886  \t3.0384 \t1  \t42 \n",
      "332\t1862  \t3.2976 \t1  \t70 \n",
      "333\t1897  \t3.3344 \t1  \t64 \n",
      "334\t1865  \t3.2072 \t1  \t64 \n",
      "335\t1892  \t3.3328 \t1  \t68 \n",
      "336\t1870  \t3.392  \t1  \t69 \n",
      "337\t1874  \t3.2748 \t1  \t63 \n",
      "338\t1893  \t3.272  \t1  \t66 \n",
      "339\t1871  \t3.0848 \t1  \t44 \n",
      "340\t1878  \t2.9664 \t1  \t62 \n",
      "341\t1923  \t3.178  \t1  \t64 \n",
      "342\t1839  \t3.2336 \t1  \t69 \n",
      "343\t1879  \t3.3648 \t1  \t63 \n",
      "344\t1860  \t3.2552 \t1  \t65 \n",
      "345\t1897  \t3.2244 \t1  \t66 \n",
      "346\t1893  \t3.3028 \t1  \t68 \n",
      "347\t1865  \t3.1096 \t1  \t66 \n",
      "348\t1857  \t3.042  \t1  \t69 \n",
      "349\t1921  \t3.304  \t1  \t69 \n",
      "350\t1904  \t3.4412 \t1  \t64 \n",
      "351\t1885  \t3.0316 \t1  \t63 \n",
      "352\t1862  \t3.184  \t1  \t62 \n",
      "353\t1835  \t3.1412 \t1  \t62 \n",
      "354\t1835  \t3.1692 \t1  \t71 \n",
      "355\t1874  \t3.2488 \t1  \t69 \n",
      "356\t1844  \t2.8832 \t1  \t66 \n",
      "357\t1871  \t3.0928 \t1  \t64 \n",
      "358\t1804  \t3.0432 \t1  \t68 \n",
      "359\t1843  \t3.4452 \t1  \t68 \n",
      "360\t1871  \t3.3572 \t1  \t65 \n",
      "361\t1881  \t2.9992 \t1  \t39 \n",
      "362\t1878  \t3.228  \t1  \t66 \n",
      "363\t1840  \t3.1704 \t1  \t66 \n",
      "364\t1895  \t3.1612 \t1  \t71 \n",
      "365\t1882  \t3.31   \t1  \t63 \n",
      "366\t1832  \t3.1332 \t1  \t41 \n",
      "367\t1824  \t3.2076 \t1  \t68 \n",
      "368\t1915  \t3.2036 \t1  \t66 \n",
      "369\t1890  \t3.2148 \t1  \t68 \n",
      "370\t1912  \t3.2112 \t1  \t98 \n",
      "371\t1816  \t3.0884 \t1  \t40 \n",
      "372\t1865  \t3.1084 \t1  \t41 \n",
      "373\t1871  \t3.0172 \t1  \t71 \n",
      "374\t1875  \t3.0164 \t1  \t64 \n",
      "375\t1888  \t3.2256 \t1  \t64 \n",
      "376\t1859  \t3.0784 \t1  \t65 \n",
      "377\t1857  \t3.0444 \t1  \t64 \n",
      "378\t1893  \t2.8404 \t1  \t66 \n",
      "379\t1839  \t3.1692 \t1  \t64 \n",
      "380\t1907  \t3.1168 \t1  \t64 \n",
      "381\t1919  \t3.0068 \t1  \t62 \n",
      "382\t1851  \t3.2692 \t1  \t68 \n",
      "383\t1845  \t3.0364 \t1  \t67 \n",
      "384\t1867  \t3.1432 \t1  \t68 \n",
      "385\t1869  \t3.2452 \t1  \t65 \n",
      "386\t1854  \t3.184  \t1  \t40 \n",
      "387\t1905  \t3.1848 \t1  \t65 \n",
      "388\t1956  \t3.1552 \t1  \t96 \n",
      "389\t1895  \t3.1316 \t1  \t64 \n",
      "390\t1881  \t3.2292 \t1  \t67 \n",
      "391\t1878  \t3.1984 \t1  \t64 \n",
      "392\t1880  \t3.216  \t1  \t63 \n",
      "393\t1866  \t3.3572 \t1  \t68 \n",
      "394\t1885  \t3.0104 \t1  \t66 \n",
      "395\t1871  \t3.4376 \t1  \t64 \n",
      "396\t1890  \t3.2264 \t1  \t63 \n",
      "397\t1891  \t3.2628 \t1  \t66 \n",
      "398\t1887  \t3.18   \t1  \t95 \n",
      "399\t1897  \t3.3724 \t1  \t66 \n",
      "400\t1900  \t3.5464 \t1  \t65 \n",
      "401\t1879  \t3.2548 \t1  \t63 \n",
      "402\t1865  \t3.1772 \t1  \t63 \n",
      "403\t1845  \t3.238  \t1  \t67 \n",
      "404\t1886  \t3.0776 \t1  \t63 \n",
      "405\t1885  \t3.222  \t1  \t93 \n",
      "406\t1863  \t3.0376 \t1  \t69 \n",
      "407\t1860  \t3.0624 \t1  \t66 \n",
      "408\t1886  \t3.0432 \t1  \t64 \n",
      "409\t1888  \t3.0872 \t1  \t66 \n",
      "410\t1863  \t3.2036 \t1  \t66 \n",
      "411\t1873  \t3.2772 \t1  \t64 \n",
      "412\t1921  \t3.2024 \t1  \t63 \n",
      "413\t1882  \t3.21   \t1  \t66 \n",
      "414\t1881  \t3.3248 \t1  \t68 \n",
      "415\t1887  \t3.2196 \t1  \t68 \n",
      "416\t1881  \t3.1324 \t1  \t95 \n",
      "417\t1861  \t3.1728 \t1  \t63 \n",
      "418\t1855  \t3.3456 \t1  \t65 \n",
      "419\t1856  \t3.13   \t1  \t64 \n",
      "420\t1901  \t3.3516 \t1  \t67 \n",
      "421\t1855  \t3.196  \t1  \t65 \n",
      "422\t1888  \t3.1004 \t1  \t64 \n",
      "423\t1894  \t3.3376 \t1  \t64 \n",
      "424\t1891  \t2.9804 \t1  \t63 \n",
      "425\t1888  \t3.3212 \t1  \t63 \n",
      "426\t1843  \t3.0712 \t1  \t65 \n",
      "427\t1892  \t3.2628 \t1  \t64 \n",
      "428\t1871  \t3.2852 \t1  \t68 \n",
      "429\t1852  \t3.314  \t1  \t66 \n",
      "430\t1915  \t3.4072 \t1  \t66 \n",
      "431\t1926  \t3.2012 \t1  \t66 \n",
      "432\t1885  \t3.1784 \t1  \t67 \n",
      "433\t1862  \t3.1008 \t1  \t64 \n",
      "434\t1858  \t3.2332 \t1  \t64 \n",
      "435\t1859  \t3.3672 \t1  \t63 \n",
      "436\t1818  \t3.1776 \t1  \t64 \n",
      "437\t1856  \t3.124  \t1  \t62 \n",
      "438\t1850  \t3.2224 \t1  \t62 \n",
      "439\t1862  \t3.1588 \t1  \t42 \n",
      "440\t1891  \t3.2716 \t1  \t65 \n",
      "441\t1861  \t2.984  \t1  \t67 \n",
      "442\t1900  \t3.1092 \t1  \t38 \n",
      "443\t1873  \t3.352  \t1  \t70 \n",
      "444\t1881  \t3.1052 \t1  \t68 \n",
      "445\t1875  \t3.1444 \t1  \t41 \n",
      "446\t1887  \t3.2844 \t1  \t67 \n",
      "447\t1864  \t3.0508 \t1  \t64 \n",
      "448\t1920  \t3.3192 \t1  \t64 \n",
      "449\t1882  \t3.2424 \t1  \t68 \n",
      "450\t1891  \t3.5844 \t1  \t65 \n",
      "451\t1889  \t3.0628 \t1  \t63 \n",
      "452\t1870  \t3.2784 \t1  \t40 \n",
      "453\t1875  \t3.0828 \t1  \t41 \n",
      "454\t1826  \t3.3468 \t1  \t71 \n",
      "455\t1829  \t2.97   \t1  \t62 \n",
      "456\t1856  \t3.0916 \t1  \t67 \n",
      "457\t1850  \t3.462  \t1  \t71 \n",
      "458\t1921  \t3.3472 \t1  \t64 \n",
      "459\t1867  \t3.2648 \t1  \t100\n",
      "460\t1829  \t2.9896 \t1  \t62 \n",
      "461\t1865  \t3.1552 \t1  \t66 \n",
      "462\t1908  \t3.0704 \t1  \t62 \n",
      "463\t1887  \t3.318  \t1  \t66 \n",
      "464\t1906  \t3.2968 \t1  \t67 \n",
      "465\t1929  \t3.1596 \t1  \t65 \n",
      "466\t1913  \t3.4336 \t1  \t66 \n",
      "467\t1880  \t3.096  \t1  \t63 \n",
      "468\t1886  \t3.046  \t1  \t68 \n",
      "469\t1844  \t3.008  \t1  \t69 \n",
      "470\t1893  \t3.1592 \t1  \t44 \n",
      "471\t1927  \t3.2824 \t1  \t64 \n",
      "472\t1858  \t2.958  \t1  \t62 \n",
      "473\t1881  \t3.0624 \t1  \t72 \n",
      "474\t1847  \t2.852  \t1  \t63 \n",
      "475\t1884  \t3.186  \t1  \t64 \n",
      "476\t1876  \t3.226  \t1  \t66 \n",
      "477\t1914  \t3.3452 \t1  \t64 \n",
      "478\t1913  \t3.3804 \t1  \t70 \n",
      "479\t1926  \t3.3524 \t1  \t66 \n",
      "480\t1840  \t3.1448 \t1  \t69 \n",
      "481\t1935  \t3.2224 \t1  \t65 \n",
      "482\t1837  \t3.186  \t1  \t65 \n",
      "483\t1857  \t3.0304 \t1  \t62 \n",
      "484\t1865  \t3.3504 \t1  \t68 \n",
      "485\t1942  \t3.194  \t1  \t64 \n",
      "486\t1825  \t3.1148 \t1  \t66 \n",
      "487\t1884  \t3.2504 \t1  \t64 \n",
      "488\t1875  \t3.1672 \t1  \t69 \n",
      "489\t1872  \t3.156  \t1  \t64 \n",
      "490\t1898  \t3.2756 \t1  \t66 \n",
      "491\t1909  \t3.2672 \t1  \t66 \n",
      "492\t1881  \t3.318  \t1  \t65 \n",
      "493\t1859  \t3.2164 \t1  \t66 \n",
      "494\t1869  \t3.1224 \t1  \t65 \n",
      "495\t1892  \t3.1032 \t1  \t65 \n",
      "496\t1866  \t3.2364 \t1  \t64 \n",
      "497\t1891  \t3.2036 \t1  \t67 \n",
      "498\t1920  \t3.19   \t1  \t68 \n",
      "499\t1882  \t3.1056 \t1  \t71 \n",
      "500\t1862  \t3.0208 \t1  \t63 \n"
     ]
    }
   ],
   "source": [
    "population_size_higher = toolbox.population(n=2500)\n",
    "generations =100\n",
    "\n",
    "hof3 = tools.HallOfFame(1)\n",
    "population_size_higher, log3 =algorithms.eaSimple(population_size_higher,toolbox,crossover_prob,mutation_prob,generations,stats,halloffame=hof3,verbose=False)\n"
   ]
  },
  {
   "cell_type": "markdown",
   "metadata": {
    "colab_type": "text",
    "id": "OkApdsjQVOUL"
   },
   "source": [
    "### 5 pts:  Plot the \"avg\" and \"min\" for each generation"
   ]
  },
  {
   "cell_type": "code",
   "execution_count": 69,
   "metadata": {},
   "outputs": [],
   "source": [
    "import matplotlib.pyplot as plt\n",
    "%matplotlib inline  \n",
    "def plot_generations(generation, average, minimum, maximum):\n",
    "    plt.figure(figsize=(8, 8))\n",
    "    plt.grid(True)\n",
    "    plt.plot(generation, average, label=\"average\")\n",
    "    plt.plot(generation, minimum, label=\"minimum\")\n",
    "    plt.plot(generation, maximum, label=\"maximum\")\n",
    "    plt.xlabel(\"Generation\")\n",
    "    plt.ylabel(\"Fitness\")\n",
    "    plt.ylim(-1)\n",
    "    plt.legend(loc=\"upper right\")\n",
    "    plt.show()"
   ]
  },
  {
   "cell_type": "code",
   "execution_count": 71,
   "metadata": {},
   "outputs": [
    {
     "data": {
      "image/png": "[encoded data removed]",
      "image/svg+xml": "<?xml version=\"1.0\" encoding=\"utf-8\" standalone=\"no\"?>\n<!DOCTYPE svg PUBLIC \"-//W3C//DTD SVG 1.1//EN\"\n  \"http://www.w3.org/Graphics/SVG/1.1/DTD/svg11.dtd\">\n<svg xmlns:xlink=\"http://www.w3.org/1999/xlink\" width=\"494.203125pt\" height=\"488.27625pt\" viewBox=\"0 0 494.203125 488.27625\" xmlns=\"http://www.w3.org/2000/svg\" version=\"1.1\">\n <metadata>\n  <rdf:RDF xmlns:dc=\"http://purl.org/dc/elements/1.1/\" xmlns:cc=\"http://creativecommons.org/ns#\" xmlns:rdf=\"http://www.w3.org/1999/02/22-rdf-syntax-ns#\">\n   <cc:Work>\n    <dc:type rdf:resource=\"http://purl.org/dc/dcmitype/StillImage\"/>\n    <dc:date>2022-11-15T22:58:14.632438</dc:date>\n    <dc:format>image/svg+xml</dc:format>\n    <dc:creator>\n     <cc:Agent>\n      <dc:title>Matplotlib v3.5.3, https://matplotlib.org/</dc:title>\n     </cc:Agent>\n    </dc:creator>\n   </cc:Work>\n  </rdf:RDF>\n </metadata>\n <defs>\n  <style type=\"text/css\">*{stroke-linejoin: round; stroke-linecap: butt}</style>\n </defs>\n <g id=\"figure_1\">\n  <g id=\"patch_1\">\n   <path d=\"M 0 488.27625 \nL 494.203125 488.27625 \nL 494.203125 0 \nL 0 0 \nz\n\" style=\"fill: #ffffff\"/>\n  </g>\n  <g id=\"axes_1\">\n   <g id=\"patch_2\">\n    <path d=\"M 40.603125 450.72 \nL 487.003125 450.72 \nL 487.003125 7.2 \nL 40.603125 7.2 \nz\n\" style=\"fill: #ffffff\"/>\n   </g>\n   <g id=\"matplotlib.axis_1\">\n    <g id=\"xtick_1\">\n     <g id=\"line2d_1\">\n      <path d=\"M 60.894034 450.72 \nL 60.894034 7.2 \n\" clip-path=\"url(#p023f6a219d)\" style=\"fill: none; stroke: #b0b0b0; stroke-width: 0.8; stroke-linecap: square\"/>\n     </g>\n     <g id=\"line2d_2\">\n      <defs>\n       <path id=\"med5b787cb4\" d=\"M 0 0 \nL 0 3.5 \n\" style=\"stroke: #000000; stroke-width: 0.8\"/>\n      </defs>\n      <g>\n       <use xlink:href=\"#med5b787cb4\" x=\"60.894034\" y=\"450.72\" style=\"stroke: #000000; stroke-width: 0.8\"/>\n      </g>\n     </g>\n     <g id=\"text_1\">\n      <!-- 0 -->\n      <g transform=\"translate(57.712784 465.318437)scale(0.1 -0.1)\">\n       <defs>\n        <path id=\"DejaVuSans-30\" d=\"M 2034 4250 \nQ 1547 4250 1301 3770 \nQ 1056 3291 1056 2328 \nQ 1056 1369 1301 889 \nQ 1547 409 2034 409 \nQ 2525 409 2770 889 \nQ 3016 1369 3016 2328 \nQ 3016 3291 2770 3770 \nQ 2525 4250 2034 4250 \nz\nM 2034 4750 \nQ 2819 4750 3233 4129 \nQ 3647 3509 3647 2328 \nQ 3647 1150 3233 529 \nQ 2819 -91 2034 -91 \nQ 1250 -91 836 529 \nQ 422 1150 422 2328 \nQ 422 3509 836 4129 \nQ 1250 4750 2034 4750 \nz\n\" transform=\"scale(0.015625)\"/>\n       </defs>\n       <use xlink:href=\"#DejaVuSans-30\"/>\n      </g>\n     </g>\n    </g>\n    <g id=\"xtick_2\">\n     <g id=\"line2d_3\">\n      <path d=\"M 142.05767 450.72 \nL 142.05767 7.2 \n\" clip-path=\"url(#p023f6a219d)\" style=\"fill: none; stroke: #b0b0b0; stroke-width: 0.8; stroke-linecap: square\"/>\n     </g>\n     <g id=\"line2d_4\">\n      <g>\n       <use xlink:href=\"#med5b787cb4\" x=\"142.05767\" y=\"450.72\" style=\"stroke: #000000; stroke-width: 0.8\"/>\n      </g>\n     </g>\n     <g id=\"text_2\">\n      <!-- 20 -->\n      <g transform=\"translate(135.69517 465.318437)scale(0.1 -0.1)\">\n       <defs>\n        <path id=\"DejaVuSans-32\" d=\"M 1228 531 \nL 3431 531 \nL 3431 0 \nL 469 0 \nL 469 531 \nQ 828 903 1448 1529 \nQ 2069 2156 2228 2338 \nQ 2531 2678 2651 2914 \nQ 2772 3150 2772 3378 \nQ 2772 3750 2511 3984 \nQ 2250 4219 1831 4219 \nQ 1534 4219 1204 4116 \nQ 875 4013 500 3803 \nL 500 4441 \nQ 881 4594 1212 4672 \nQ 1544 4750 1819 4750 \nQ 2544 4750 2975 4387 \nQ 3406 4025 3406 3419 \nQ 3406 3131 3298 2873 \nQ 3191 2616 2906 2266 \nQ 2828 2175 2409 1742 \nQ 1991 1309 1228 531 \nz\n\" transform=\"scale(0.015625)\"/>\n       </defs>\n       <use xlink:href=\"#DejaVuSans-32\"/>\n       <use xlink:href=\"#DejaVuSans-30\" x=\"63.623047\"/>\n      </g>\n     </g>\n    </g>\n    <g id=\"xtick_3\">\n     <g id=\"line2d_5\">\n      <path d=\"M 223.221307 450.72 \nL 223.221307 7.2 \n\" clip-path=\"url(#p023f6a219d)\" style=\"fill: none; stroke: #b0b0b0; stroke-width: 0.8; stroke-linecap: square\"/>\n     </g>\n     <g id=\"line2d_6\">\n      <g>\n       <use xlink:href=\"#med5b787cb4\" x=\"223.221307\" y=\"450.72\" style=\"stroke: #000000; stroke-width: 0.8\"/>\n      </g>\n     </g>\n     <g id=\"text_3\">\n      <!-- 40 -->\n      <g transform=\"translate(216.858807 465.318437)scale(0.1 -0.1)\">\n       <defs>\n        <path id=\"DejaVuSans-34\" d=\"M 2419 4116 \nL 825 1625 \nL 2419 1625 \nL 2419 4116 \nz\nM 2253 4666 \nL 3047 4666 \nL 3047 1625 \nL 3713 1625 \nL 3713 1100 \nL 3047 1100 \nL 3047 0 \nL 2419 0 \nL 2419 1100 \nL 313 1100 \nL 313 1709 \nL 2253 4666 \nz\n\" transform=\"scale(0.015625)\"/>\n       </defs>\n       <use xlink:href=\"#DejaVuSans-34\"/>\n       <use xlink:href=\"#DejaVuSans-30\" x=\"63.623047\"/>\n      </g>\n     </g>\n    </g>\n    <g id=\"xtick_4\">\n     <g id=\"line2d_7\">\n      <path d=\"M 304.384943 450.72 \nL 304.384943 7.2 \n\" clip-path=\"url(#p023f6a219d)\" style=\"fill: none; stroke: #b0b0b0; stroke-width: 0.8; stroke-linecap: square\"/>\n     </g>\n     <g id=\"line2d_8\">\n      <g>\n       <use xlink:href=\"#med5b787cb4\" x=\"304.384943\" y=\"450.72\" style=\"stroke: #000000; stroke-width: 0.8\"/>\n      </g>\n     </g>\n     <g id=\"text_4\">\n      <!-- 60 -->\n      <g transform=\"translate(298.022443 465.318437)scale(0.1 -0.1)\">\n       <defs>\n        <path id=\"DejaVuSans-36\" d=\"M 2113 2584 \nQ 1688 2584 1439 2293 \nQ 1191 2003 1191 1497 \nQ 1191 994 1439 701 \nQ 1688 409 2113 409 \nQ 2538 409 2786 701 \nQ 3034 994 3034 1497 \nQ 3034 2003 2786 2293 \nQ 2538 2584 2113 2584 \nz\nM 3366 4563 \nL 3366 3988 \nQ 3128 4100 2886 4159 \nQ 2644 4219 2406 4219 \nQ 1781 4219 1451 3797 \nQ 1122 3375 1075 2522 \nQ 1259 2794 1537 2939 \nQ 1816 3084 2150 3084 \nQ 2853 3084 3261 2657 \nQ 3669 2231 3669 1497 \nQ 3669 778 3244 343 \nQ 2819 -91 2113 -91 \nQ 1303 -91 875 529 \nQ 447 1150 447 2328 \nQ 447 3434 972 4092 \nQ 1497 4750 2381 4750 \nQ 2619 4750 2861 4703 \nQ 3103 4656 3366 4563 \nz\n\" transform=\"scale(0.015625)\"/>\n       </defs>\n       <use xlink:href=\"#DejaVuSans-36\"/>\n       <use xlink:href=\"#DejaVuSans-30\" x=\"63.623047\"/>\n      </g>\n     </g>\n    </g>\n    <g id=\"xtick_5\">\n     <g id=\"line2d_9\">\n      <path d=\"M 385.54858 450.72 \nL 385.54858 7.2 \n\" clip-path=\"url(#p023f6a219d)\" style=\"fill: none; stroke: #b0b0b0; stroke-width: 0.8; stroke-linecap: square\"/>\n     </g>\n     <g id=\"line2d_10\">\n      <g>\n       <use xlink:href=\"#med5b787cb4\" x=\"385.54858\" y=\"450.72\" style=\"stroke: #000000; stroke-width: 0.8\"/>\n      </g>\n     </g>\n     <g id=\"text_5\">\n      <!-- 80 -->\n      <g transform=\"translate(379.18608 465.318437)scale(0.1 -0.1)\">\n       <defs>\n        <path id=\"DejaVuSans-38\" d=\"M 2034 2216 \nQ 1584 2216 1326 1975 \nQ 1069 1734 1069 1313 \nQ 1069 891 1326 650 \nQ 1584 409 2034 409 \nQ 2484 409 2743 651 \nQ 3003 894 3003 1313 \nQ 3003 1734 2745 1975 \nQ 2488 2216 2034 2216 \nz\nM 1403 2484 \nQ 997 2584 770 2862 \nQ 544 3141 544 3541 \nQ 544 4100 942 4425 \nQ 1341 4750 2034 4750 \nQ 2731 4750 3128 4425 \nQ 3525 4100 3525 3541 \nQ 3525 3141 3298 2862 \nQ 3072 2584 2669 2484 \nQ 3125 2378 3379 2068 \nQ 3634 1759 3634 1313 \nQ 3634 634 3220 271 \nQ 2806 -91 2034 -91 \nQ 1263 -91 848 271 \nQ 434 634 434 1313 \nQ 434 1759 690 2068 \nQ 947 2378 1403 2484 \nz\nM 1172 3481 \nQ 1172 3119 1398 2916 \nQ 1625 2713 2034 2713 \nQ 2441 2713 2670 2916 \nQ 2900 3119 2900 3481 \nQ 2900 3844 2670 4047 \nQ 2441 4250 2034 4250 \nQ 1625 4250 1398 4047 \nQ 1172 3844 1172 3481 \nz\n\" transform=\"scale(0.015625)\"/>\n       </defs>\n       <use xlink:href=\"#DejaVuSans-38\"/>\n       <use xlink:href=\"#DejaVuSans-30\" x=\"63.623047\"/>\n      </g>\n     </g>\n    </g>\n    <g id=\"xtick_6\">\n     <g id=\"line2d_11\">\n      <path d=\"M 466.712216 450.72 \nL 466.712216 7.2 \n\" clip-path=\"url(#p023f6a219d)\" style=\"fill: none; stroke: #b0b0b0; stroke-width: 0.8; stroke-linecap: square\"/>\n     </g>\n     <g id=\"line2d_12\">\n      <g>\n       <use xlink:href=\"#med5b787cb4\" x=\"466.712216\" y=\"450.72\" style=\"stroke: #000000; stroke-width: 0.8\"/>\n      </g>\n     </g>\n     <g id=\"text_6\">\n      <!-- 100 -->\n      <g transform=\"translate(457.168466 465.318437)scale(0.1 -0.1)\">\n       <defs>\n        <path id=\"DejaVuSans-31\" d=\"M 794 531 \nL 1825 531 \nL 1825 4091 \nL 703 3866 \nL 703 4441 \nL 1819 4666 \nL 2450 4666 \nL 2450 531 \nL 3481 531 \nL 3481 0 \nL 794 0 \nL 794 531 \nz\n\" transform=\"scale(0.015625)\"/>\n       </defs>\n       <use xlink:href=\"#DejaVuSans-31\"/>\n       <use xlink:href=\"#DejaVuSans-30\" x=\"63.623047\"/>\n       <use xlink:href=\"#DejaVuSans-30\" x=\"127.246094\"/>\n      </g>\n     </g>\n    </g>\n    <g id=\"text_7\">\n     <!-- Generation -->\n     <g transform=\"translate(235.910156 478.996562)scale(0.1 -0.1)\">\n      <defs>\n       <path id=\"DejaVuSans-47\" d=\"M 3809 666 \nL 3809 1919 \nL 2778 1919 \nL 2778 2438 \nL 4434 2438 \nL 4434 434 \nQ 4069 175 3628 42 \nQ 3188 -91 2688 -91 \nQ 1594 -91 976 548 \nQ 359 1188 359 2328 \nQ 359 3472 976 4111 \nQ 1594 4750 2688 4750 \nQ 3144 4750 3555 4637 \nQ 3966 4525 4313 4306 \nL 4313 3634 \nQ 3963 3931 3569 4081 \nQ 3175 4231 2741 4231 \nQ 1884 4231 1454 3753 \nQ 1025 3275 1025 2328 \nQ 1025 1384 1454 906 \nQ 1884 428 2741 428 \nQ 3075 428 3337 486 \nQ 3600 544 3809 666 \nz\n\" transform=\"scale(0.015625)\"/>\n       <path id=\"DejaVuSans-65\" d=\"M 3597 1894 \nL 3597 1613 \nL 953 1613 \nQ 991 1019 1311 708 \nQ 1631 397 2203 397 \nQ 2534 397 2845 478 \nQ 3156 559 3463 722 \nL 3463 178 \nQ 3153 47 2828 -22 \nQ 2503 -91 2169 -91 \nQ 1331 -91 842 396 \nQ 353 884 353 1716 \nQ 353 2575 817 3079 \nQ 1281 3584 2069 3584 \nQ 2775 3584 3186 3129 \nQ 3597 2675 3597 1894 \nz\nM 3022 2063 \nQ 3016 2534 2758 2815 \nQ 2500 3097 2075 3097 \nQ 1594 3097 1305 2825 \nQ 1016 2553 972 2059 \nL 3022 2063 \nz\n\" transform=\"scale(0.015625)\"/>\n       <path id=\"DejaVuSans-6e\" d=\"M 3513 2113 \nL 3513 0 \nL 2938 0 \nL 2938 2094 \nQ 2938 2591 2744 2837 \nQ 2550 3084 2163 3084 \nQ 1697 3084 1428 2787 \nQ 1159 2491 1159 1978 \nL 1159 0 \nL 581 0 \nL 581 3500 \nL 1159 3500 \nL 1159 2956 \nQ 1366 3272 1645 3428 \nQ 1925 3584 2291 3584 \nQ 2894 3584 3203 3211 \nQ 3513 2838 3513 2113 \nz\n\" transform=\"scale(0.015625)\"/>\n       <path id=\"DejaVuSans-72\" d=\"M 2631 2963 \nQ 2534 3019 2420 3045 \nQ 2306 3072 2169 3072 \nQ 1681 3072 1420 2755 \nQ 1159 2438 1159 1844 \nL 1159 0 \nL 581 0 \nL 581 3500 \nL 1159 3500 \nL 1159 2956 \nQ 1341 3275 1631 3429 \nQ 1922 3584 2338 3584 \nQ 2397 3584 2469 3576 \nQ 2541 3569 2628 3553 \nL 2631 2963 \nz\n\" transform=\"scale(0.015625)\"/>\n       <path id=\"DejaVuSans-61\" d=\"M 2194 1759 \nQ 1497 1759 1228 1600 \nQ 959 1441 959 1056 \nQ 959 750 1161 570 \nQ 1363 391 1709 391 \nQ 2188 391 2477 730 \nQ 2766 1069 2766 1631 \nL 2766 1759 \nL 2194 1759 \nz\nM 3341 1997 \nL 3341 0 \nL 2766 0 \nL 2766 531 \nQ 2569 213 2275 61 \nQ 1981 -91 1556 -91 \nQ 1019 -91 701 211 \nQ 384 513 384 1019 \nQ 384 1609 779 1909 \nQ 1175 2209 1959 2209 \nL 2766 2209 \nL 2766 2266 \nQ 2766 2663 2505 2880 \nQ 2244 3097 1772 3097 \nQ 1472 3097 1187 3025 \nQ 903 2953 641 2809 \nL 641 3341 \nQ 956 3463 1253 3523 \nQ 1550 3584 1831 3584 \nQ 2591 3584 2966 3190 \nQ 3341 2797 3341 1997 \nz\n\" transform=\"scale(0.015625)\"/>\n       <path id=\"DejaVuSans-74\" d=\"M 1172 4494 \nL 1172 3500 \nL 2356 3500 \nL 2356 3053 \nL 1172 3053 \nL 1172 1153 \nQ 1172 725 1289 603 \nQ 1406 481 1766 481 \nL 2356 481 \nL 2356 0 \nL 1766 0 \nQ 1100 0 847 248 \nQ 594 497 594 1153 \nL 594 3053 \nL 172 3053 \nL 172 3500 \nL 594 3500 \nL 594 4494 \nL 1172 4494 \nz\n\" transform=\"scale(0.015625)\"/>\n       <path id=\"DejaVuSans-69\" d=\"M 603 3500 \nL 1178 3500 \nL 1178 0 \nL 603 0 \nL 603 3500 \nz\nM 603 4863 \nL 1178 4863 \nL 1178 4134 \nL 603 4134 \nL 603 4863 \nz\n\" transform=\"scale(0.015625)\"/>\n       <path id=\"DejaVuSans-6f\" d=\"M 1959 3097 \nQ 1497 3097 1228 2736 \nQ 959 2375 959 1747 \nQ 959 1119 1226 758 \nQ 1494 397 1959 397 \nQ 2419 397 2687 759 \nQ 2956 1122 2956 1747 \nQ 2956 2369 2687 2733 \nQ 2419 3097 1959 3097 \nz\nM 1959 3584 \nQ 2709 3584 3137 3096 \nQ 3566 2609 3566 1747 \nQ 3566 888 3137 398 \nQ 2709 -91 1959 -91 \nQ 1206 -91 779 398 \nQ 353 888 353 1747 \nQ 353 2609 779 3096 \nQ 1206 3584 1959 3584 \nz\n\" transform=\"scale(0.015625)\"/>\n      </defs>\n      <use xlink:href=\"#DejaVuSans-47\"/>\n      <use xlink:href=\"#DejaVuSans-65\" x=\"77.490234\"/>\n      <use xlink:href=\"#DejaVuSans-6e\" x=\"139.013672\"/>\n      <use xlink:href=\"#DejaVuSans-65\" x=\"202.392578\"/>\n      <use xlink:href=\"#DejaVuSans-72\" x=\"263.916016\"/>\n      <use xlink:href=\"#DejaVuSans-61\" x=\"305.029297\"/>\n      <use xlink:href=\"#DejaVuSans-74\" x=\"366.308594\"/>\n      <use xlink:href=\"#DejaVuSans-69\" x=\"405.517578\"/>\n      <use xlink:href=\"#DejaVuSans-6f\" x=\"433.300781\"/>\n      <use xlink:href=\"#DejaVuSans-6e\" x=\"494.482422\"/>\n     </g>\n    </g>\n   </g>\n   <g id=\"matplotlib.axis_2\">\n    <g id=\"ytick_1\">\n     <g id=\"line2d_13\">\n      <path d=\"M 40.603125 445.080839 \nL 487.003125 445.080839 \n\" clip-path=\"url(#p023f6a219d)\" style=\"fill: none; stroke: #b0b0b0; stroke-width: 0.8; stroke-linecap: square\"/>\n     </g>\n     <g id=\"line2d_14\">\n      <defs>\n       <path id=\"mc742c916db\" d=\"M 0 0 \nL -3.5 0 \n\" style=\"stroke: #000000; stroke-width: 0.8\"/>\n      </defs>\n      <g>\n       <use xlink:href=\"#mc742c916db\" x=\"40.603125\" y=\"445.080839\" style=\"stroke: #000000; stroke-width: 0.8\"/>\n      </g>\n     </g>\n     <g id=\"text_8\">\n      <!-- 0 -->\n      <g transform=\"translate(27.240625 448.880058)scale(0.1 -0.1)\">\n       <use xlink:href=\"#DejaVuSans-30\"/>\n      </g>\n     </g>\n    </g>\n    <g id=\"ytick_2\">\n     <g id=\"line2d_15\">\n      <path d=\"M 40.603125 388.689231 \nL 487.003125 388.689231 \n\" clip-path=\"url(#p023f6a219d)\" style=\"fill: none; stroke: #b0b0b0; stroke-width: 0.8; stroke-linecap: square\"/>\n     </g>\n     <g id=\"line2d_16\">\n      <g>\n       <use xlink:href=\"#mc742c916db\" x=\"40.603125\" y=\"388.689231\" style=\"stroke: #000000; stroke-width: 0.8\"/>\n      </g>\n     </g>\n     <g id=\"text_9\">\n      <!-- 10 -->\n      <g transform=\"translate(20.878125 392.48845)scale(0.1 -0.1)\">\n       <use xlink:href=\"#DejaVuSans-31\"/>\n       <use xlink:href=\"#DejaVuSans-30\" x=\"63.623047\"/>\n      </g>\n     </g>\n    </g>\n    <g id=\"ytick_3\">\n     <g id=\"line2d_17\">\n      <path d=\"M 40.603125 332.297622 \nL 487.003125 332.297622 \n\" clip-path=\"url(#p023f6a219d)\" style=\"fill: none; stroke: #b0b0b0; stroke-width: 0.8; stroke-linecap: square\"/>\n     </g>\n     <g id=\"line2d_18\">\n      <g>\n       <use xlink:href=\"#mc742c916db\" x=\"40.603125\" y=\"332.297622\" style=\"stroke: #000000; stroke-width: 0.8\"/>\n      </g>\n     </g>\n     <g id=\"text_10\">\n      <!-- 20 -->\n      <g transform=\"translate(20.878125 336.096841)scale(0.1 -0.1)\">\n       <use xlink:href=\"#DejaVuSans-32\"/>\n       <use xlink:href=\"#DejaVuSans-30\" x=\"63.623047\"/>\n      </g>\n     </g>\n    </g>\n    <g id=\"ytick_4\">\n     <g id=\"line2d_19\">\n      <path d=\"M 40.603125 275.906014 \nL 487.003125 275.906014 \n\" clip-path=\"url(#p023f6a219d)\" style=\"fill: none; stroke: #b0b0b0; stroke-width: 0.8; stroke-linecap: square\"/>\n     </g>\n     <g id=\"line2d_20\">\n      <g>\n       <use xlink:href=\"#mc742c916db\" x=\"40.603125\" y=\"275.906014\" style=\"stroke: #000000; stroke-width: 0.8\"/>\n      </g>\n     </g>\n     <g id=\"text_11\">\n      <!-- 30 -->\n      <g transform=\"translate(20.878125 279.705233)scale(0.1 -0.1)\">\n       <defs>\n        <path id=\"DejaVuSans-33\" d=\"M 2597 2516 \nQ 3050 2419 3304 2112 \nQ 3559 1806 3559 1356 \nQ 3559 666 3084 287 \nQ 2609 -91 1734 -91 \nQ 1441 -91 1130 -33 \nQ 819 25 488 141 \nL 488 750 \nQ 750 597 1062 519 \nQ 1375 441 1716 441 \nQ 2309 441 2620 675 \nQ 2931 909 2931 1356 \nQ 2931 1769 2642 2001 \nQ 2353 2234 1838 2234 \nL 1294 2234 \nL 1294 2753 \nL 1863 2753 \nQ 2328 2753 2575 2939 \nQ 2822 3125 2822 3475 \nQ 2822 3834 2567 4026 \nQ 2313 4219 1838 4219 \nQ 1578 4219 1281 4162 \nQ 984 4106 628 3988 \nL 628 4550 \nQ 988 4650 1302 4700 \nQ 1616 4750 1894 4750 \nQ 2613 4750 3031 4423 \nQ 3450 4097 3450 3541 \nQ 3450 3153 3228 2886 \nQ 3006 2619 2597 2516 \nz\n\" transform=\"scale(0.015625)\"/>\n       </defs>\n       <use xlink:href=\"#DejaVuSans-33\"/>\n       <use xlink:href=\"#DejaVuSans-30\" x=\"63.623047\"/>\n      </g>\n     </g>\n    </g>\n    <g id=\"ytick_5\">\n     <g id=\"line2d_21\">\n      <path d=\"M 40.603125 219.514406 \nL 487.003125 219.514406 \n\" clip-path=\"url(#p023f6a219d)\" style=\"fill: none; stroke: #b0b0b0; stroke-width: 0.8; stroke-linecap: square\"/>\n     </g>\n     <g id=\"line2d_22\">\n      <g>\n       <use xlink:href=\"#mc742c916db\" x=\"40.603125\" y=\"219.514406\" style=\"stroke: #000000; stroke-width: 0.8\"/>\n      </g>\n     </g>\n     <g id=\"text_12\">\n      <!-- 40 -->\n      <g transform=\"translate(20.878125 223.313624)scale(0.1 -0.1)\">\n       <use xlink:href=\"#DejaVuSans-34\"/>\n       <use xlink:href=\"#DejaVuSans-30\" x=\"63.623047\"/>\n      </g>\n     </g>\n    </g>\n    <g id=\"ytick_6\">\n     <g id=\"line2d_23\">\n      <path d=\"M 40.603125 163.122797 \nL 487.003125 163.122797 \n\" clip-path=\"url(#p023f6a219d)\" style=\"fill: none; stroke: #b0b0b0; stroke-width: 0.8; stroke-linecap: square\"/>\n     </g>\n     <g id=\"line2d_24\">\n      <g>\n       <use xlink:href=\"#mc742c916db\" x=\"40.603125\" y=\"163.122797\" style=\"stroke: #000000; stroke-width: 0.8\"/>\n      </g>\n     </g>\n     <g id=\"text_13\">\n      <!-- 50 -->\n      <g transform=\"translate(20.878125 166.922016)scale(0.1 -0.1)\">\n       <defs>\n        <path id=\"DejaVuSans-35\" d=\"M 691 4666 \nL 3169 4666 \nL 3169 4134 \nL 1269 4134 \nL 1269 2991 \nQ 1406 3038 1543 3061 \nQ 1681 3084 1819 3084 \nQ 2600 3084 3056 2656 \nQ 3513 2228 3513 1497 \nQ 3513 744 3044 326 \nQ 2575 -91 1722 -91 \nQ 1428 -91 1123 -41 \nQ 819 9 494 109 \nL 494 744 \nQ 775 591 1075 516 \nQ 1375 441 1709 441 \nQ 2250 441 2565 725 \nQ 2881 1009 2881 1497 \nQ 2881 1984 2565 2268 \nQ 2250 2553 1709 2553 \nQ 1456 2553 1204 2497 \nQ 953 2441 691 2322 \nL 691 4666 \nz\n\" transform=\"scale(0.015625)\"/>\n       </defs>\n       <use xlink:href=\"#DejaVuSans-35\"/>\n       <use xlink:href=\"#DejaVuSans-30\" x=\"63.623047\"/>\n      </g>\n     </g>\n    </g>\n    <g id=\"ytick_7\">\n     <g id=\"line2d_25\">\n      <path d=\"M 40.603125 106.731189 \nL 487.003125 106.731189 \n\" clip-path=\"url(#p023f6a219d)\" style=\"fill: none; stroke: #b0b0b0; stroke-width: 0.8; stroke-linecap: square\"/>\n     </g>\n     <g id=\"line2d_26\">\n      <g>\n       <use xlink:href=\"#mc742c916db\" x=\"40.603125\" y=\"106.731189\" style=\"stroke: #000000; stroke-width: 0.8\"/>\n      </g>\n     </g>\n     <g id=\"text_14\">\n      <!-- 60 -->\n      <g transform=\"translate(20.878125 110.530408)scale(0.1 -0.1)\">\n       <use xlink:href=\"#DejaVuSans-36\"/>\n       <use xlink:href=\"#DejaVuSans-30\" x=\"63.623047\"/>\n      </g>\n     </g>\n    </g>\n    <g id=\"ytick_8\">\n     <g id=\"line2d_27\">\n      <path d=\"M 40.603125 50.33958 \nL 487.003125 50.33958 \n\" clip-path=\"url(#p023f6a219d)\" style=\"fill: none; stroke: #b0b0b0; stroke-width: 0.8; stroke-linecap: square\"/>\n     </g>\n     <g id=\"line2d_28\">\n      <g>\n       <use xlink:href=\"#mc742c916db\" x=\"40.603125\" y=\"50.33958\" style=\"stroke: #000000; stroke-width: 0.8\"/>\n      </g>\n     </g>\n     <g id=\"text_15\">\n      <!-- 70 -->\n      <g transform=\"translate(20.878125 54.138799)scale(0.1 -0.1)\">\n       <defs>\n        <path id=\"DejaVuSans-37\" d=\"M 525 4666 \nL 3525 4666 \nL 3525 4397 \nL 1831 0 \nL 1172 0 \nL 2766 4134 \nL 525 4134 \nL 525 4666 \nz\n\" transform=\"scale(0.015625)\"/>\n       </defs>\n       <use xlink:href=\"#DejaVuSans-37\"/>\n       <use xlink:href=\"#DejaVuSans-30\" x=\"63.623047\"/>\n      </g>\n     </g>\n    </g>\n    <g id=\"text_16\">\n     <!-- Fitness -->\n     <g transform=\"translate(14.798438 246.277187)rotate(-90)scale(0.1 -0.1)\">\n      <defs>\n       <path id=\"DejaVuSans-46\" d=\"M 628 4666 \nL 3309 4666 \nL 3309 4134 \nL 1259 4134 \nL 1259 2759 \nL 3109 2759 \nL 3109 2228 \nL 1259 2228 \nL 1259 0 \nL 628 0 \nL 628 4666 \nz\n\" transform=\"scale(0.015625)\"/>\n       <path id=\"DejaVuSans-73\" d=\"M 2834 3397 \nL 2834 2853 \nQ 2591 2978 2328 3040 \nQ 2066 3103 1784 3103 \nQ 1356 3103 1142 2972 \nQ 928 2841 928 2578 \nQ 928 2378 1081 2264 \nQ 1234 2150 1697 2047 \nL 1894 2003 \nQ 2506 1872 2764 1633 \nQ 3022 1394 3022 966 \nQ 3022 478 2636 193 \nQ 2250 -91 1575 -91 \nQ 1294 -91 989 -36 \nQ 684 19 347 128 \nL 347 722 \nQ 666 556 975 473 \nQ 1284 391 1588 391 \nQ 1994 391 2212 530 \nQ 2431 669 2431 922 \nQ 2431 1156 2273 1281 \nQ 2116 1406 1581 1522 \nL 1381 1569 \nQ 847 1681 609 1914 \nQ 372 2147 372 2553 \nQ 372 3047 722 3315 \nQ 1072 3584 1716 3584 \nQ 2034 3584 2315 3537 \nQ 2597 3491 2834 3397 \nz\n\" transform=\"scale(0.015625)\"/>\n      </defs>\n      <use xlink:href=\"#DejaVuSans-46\"/>\n      <use xlink:href=\"#DejaVuSans-69\" x=\"50.269531\"/>\n      <use xlink:href=\"#DejaVuSans-74\" x=\"78.052734\"/>\n      <use xlink:href=\"#DejaVuSans-6e\" x=\"117.261719\"/>\n      <use xlink:href=\"#DejaVuSans-65\" x=\"180.640625\"/>\n      <use xlink:href=\"#DejaVuSans-73\" x=\"242.164062\"/>\n      <use xlink:href=\"#DejaVuSans-73\" x=\"294.263672\"/>\n     </g>\n    </g>\n   </g>\n   <g id=\"line2d_29\">\n    <path d=\"M 60.894034 385.982434 \nL 64.952216 368.952168 \nL 69.010398 380.061315 \nL 73.06858 374.140196 \nL 77.126761 373.519888 \nL 81.184943 384.347077 \nL 85.243125 390.944895 \nL 89.301307 392.974993 \nL 93.359489 387.674182 \nL 97.41767 380.681622 \nL 101.475852 393.426126 \nL 105.534034 403.914965 \nL 109.592216 398.444979 \nL 113.650398 389.253147 \nL 117.70858 390.77572 \nL 121.766761 389.422322 \nL 125.824943 396.922406 \nL 129.883125 407.693203 \nL 133.941307 405.211972 \nL 137.999489 390.77572 \nL 142.05767 409.215776 \nL 146.115852 417.843692 \nL 150.174034 415.869986 \nL 154.232216 420.21214 \nL 158.290398 415.418853 \nL 162.34858 411.866182 \nL 166.406761 414.854937 \nL 170.464943 418.520392 \nL 174.523125 427.091916 \nL 178.581307 418.80235 \nL 182.639489 421.62193 \nL 186.69767 411.245874 \nL 190.755852 422.467804 \nL 194.814034 422.016671 \nL 198.872216 421.847497 \nL 202.930398 421.339972 \nL 206.98858 416.772252 \nL 211.046761 423.200895 \nL 215.104943 419.648224 \nL 219.163125 426.415217 \nL 223.221307 419.084308 \nL 227.279489 416.71586 \nL 231.33767 422.411413 \nL 235.395852 424.892643 \nL 239.454034 417.448951 \nL 243.512216 427.148308 \nL 247.570398 419.197091 \nL 251.62858 423.426462 \nL 255.686761 420.437706 \nL 259.744943 427.317483 \nL 263.803125 428.896448 \nL 267.861307 424.667077 \nL 271.919489 426.18965 \nL 275.97767 427.035524 \nL 280.035852 432.50551 \nL 284.094034 425.287385 \nL 288.152216 429.516755 \nL 292.210398 418.576783 \nL 296.26858 424.497902 \nL 300.326761 419.479049 \nL 304.384943 425.738517 \nL 308.443125 426.358825 \nL 312.501307 428.840056 \nL 316.559489 422.580587 \nL 320.61767 429.911497 \nL 324.675852 425.11821 \nL 328.734034 422.411413 \nL 332.792216 429.629538 \nL 336.850398 423.482853 \nL 340.90858 425.738517 \nL 344.966761 424.949035 \nL 349.024943 433.125818 \nL 353.083125 425.964084 \nL 357.141307 432.223552 \nL 361.199489 426.640783 \nL 365.25767 426.584392 \nL 369.315852 424.554294 \nL 373.374034 430.080671 \nL 377.432216 431.264895 \nL 381.490398 425.343776 \nL 385.54858 428.558098 \nL 389.606761 430.700979 \nL 393.664943 429.009231 \nL 397.723125 431.321287 \nL 401.781307 427.091916 \nL 405.839489 424.949035 \nL 409.89767 425.400168 \nL 413.955852 428.27614 \nL 418.014034 427.768615 \nL 422.072216 429.911497 \nL 426.130398 425.061818 \nL 430.18858 429.855105 \nL 434.246761 426.358825 \nL 438.304943 428.27614 \nL 442.363125 431.659636 \nL 446.421307 428.445315 \nL 450.479489 429.798713 \nL 454.53767 423.764811 \nL 458.595852 421.62193 \nL 462.654034 419.535441 \nL 466.712216 426.076867 \n\" clip-path=\"url(#p023f6a219d)\" style=\"fill: none; stroke: #1f77b4; stroke-width: 1.5; stroke-linecap: square\"/>\n   </g>\n   <g id=\"line2d_30\">\n    <path d=\"M 60.894034 416.885035 \nL 64.952216 416.885035 \nL 69.010398 422.524196 \nL 73.06858 416.885035 \nL 77.126761 416.885035 \nL 81.184943 416.885035 \nL 85.243125 416.885035 \nL 89.301307 422.524196 \nL 93.359489 422.524196 \nL 97.41767 428.163357 \nL 101.475852 428.163357 \nL 105.534034 428.163357 \nL 109.592216 428.163357 \nL 113.650398 428.163357 \nL 117.70858 428.163357 \nL 121.766761 433.802517 \nL 125.824943 428.163357 \nL 129.883125 428.163357 \nL 133.941307 428.163357 \nL 137.999489 428.163357 \nL 142.05767 433.802517 \nL 146.115852 433.802517 \nL 150.174034 433.802517 \nL 154.232216 433.802517 \nL 158.290398 433.802517 \nL 162.34858 433.802517 \nL 166.406761 433.802517 \nL 170.464943 433.802517 \nL 174.523125 433.802517 \nL 178.581307 433.802517 \nL 182.639489 433.802517 \nL 186.69767 433.802517 \nL 190.755852 433.802517 \nL 194.814034 433.802517 \nL 198.872216 433.802517 \nL 202.930398 433.802517 \nL 206.98858 439.441678 \nL 211.046761 439.441678 \nL 215.104943 433.802517 \nL 219.163125 433.802517 \nL 223.221307 433.802517 \nL 227.279489 433.802517 \nL 231.33767 439.441678 \nL 235.395852 439.441678 \nL 239.454034 439.441678 \nL 243.512216 439.441678 \nL 247.570398 439.441678 \nL 251.62858 439.441678 \nL 255.686761 439.441678 \nL 259.744943 439.441678 \nL 263.803125 439.441678 \nL 267.861307 439.441678 \nL 271.919489 439.441678 \nL 275.97767 439.441678 \nL 280.035852 439.441678 \nL 284.094034 439.441678 \nL 288.152216 439.441678 \nL 292.210398 439.441678 \nL 296.26858 439.441678 \nL 300.326761 439.441678 \nL 304.384943 439.441678 \nL 308.443125 439.441678 \nL 312.501307 439.441678 \nL 316.559489 439.441678 \nL 320.61767 439.441678 \nL 324.675852 439.441678 \nL 328.734034 439.441678 \nL 332.792216 439.441678 \nL 336.850398 439.441678 \nL 340.90858 439.441678 \nL 344.966761 439.441678 \nL 349.024943 439.441678 \nL 353.083125 439.441678 \nL 357.141307 439.441678 \nL 361.199489 439.441678 \nL 365.25767 439.441678 \nL 369.315852 439.441678 \nL 373.374034 439.441678 \nL 377.432216 439.441678 \nL 381.490398 439.441678 \nL 385.54858 439.441678 \nL 389.606761 439.441678 \nL 393.664943 439.441678 \nL 397.723125 439.441678 \nL 401.781307 439.441678 \nL 405.839489 439.441678 \nL 409.89767 439.441678 \nL 413.955852 439.441678 \nL 418.014034 439.441678 \nL 422.072216 439.441678 \nL 426.130398 439.441678 \nL 430.18858 439.441678 \nL 434.246761 439.441678 \nL 438.304943 439.441678 \nL 442.363125 439.441678 \nL 446.421307 439.441678 \nL 450.479489 439.441678 \nL 454.53767 439.441678 \nL 458.595852 439.441678 \nL 462.654034 439.441678 \nL 466.712216 439.441678 \n\" clip-path=\"url(#p023f6a219d)\" style=\"fill: none; stroke: #ff7f0e; stroke-width: 1.5; stroke-linecap: square\"/>\n   </g>\n   <g id=\"line2d_31\">\n    <path d=\"M 60.894034 349.215105 \nL 64.952216 27.782937 \nL 69.010398 44.70042 \nL 73.06858 78.535385 \nL 77.126761 196.957762 \nL 81.184943 78.535385 \nL 85.243125 78.535385 \nL 89.301307 78.535385 \nL 93.359489 213.875245 \nL 97.41767 50.33958 \nL 101.475852 78.535385 \nL 105.534034 208.236084 \nL 109.592216 225.153566 \nL 113.650398 213.875245 \nL 117.70858 208.236084 \nL 121.766761 225.153566 \nL 125.824943 219.514406 \nL 129.883125 236.431888 \nL 133.941307 225.153566 \nL 137.999489 78.535385 \nL 142.05767 95.452867 \nL 146.115852 258.988531 \nL 150.174034 242.071049 \nL 154.232216 258.988531 \nL 158.290398 247.71021 \nL 162.34858 230.792727 \nL 166.406761 213.875245 \nL 170.464943 225.153566 \nL 174.523125 399.967552 \nL 178.581307 247.71021 \nL 182.639489 236.431888 \nL 186.69767 61.617902 \nL 190.755852 247.71021 \nL 194.814034 219.514406 \nL 198.872216 242.071049 \nL 202.930398 236.431888 \nL 206.98858 72.896224 \nL 211.046761 230.792727 \nL 215.104943 242.071049 \nL 219.163125 258.988531 \nL 223.221307 247.71021 \nL 227.279489 253.349371 \nL 231.33767 242.071049 \nL 235.395852 247.71021 \nL 239.454034 236.431888 \nL 243.512216 264.627692 \nL 247.570398 236.431888 \nL 251.62858 247.71021 \nL 255.686761 95.452867 \nL 259.744943 242.071049 \nL 263.803125 213.875245 \nL 267.861307 242.071049 \nL 271.919489 230.792727 \nL 275.97767 242.071049 \nL 280.035852 247.71021 \nL 284.094034 44.70042 \nL 288.152216 247.71021 \nL 292.210398 202.596923 \nL 296.26858 89.813706 \nL 300.326761 242.071049 \nL 304.384943 72.896224 \nL 308.443125 247.71021 \nL 312.501307 247.71021 \nL 316.559489 78.535385 \nL 320.61767 247.71021 \nL 324.675852 247.71021 \nL 328.734034 242.071049 \nL 332.792216 258.988531 \nL 336.850398 253.349371 \nL 340.90858 242.071049 \nL 344.966761 258.988531 \nL 349.024943 242.071049 \nL 353.083125 242.071049 \nL 357.141307 264.627692 \nL 361.199489 253.349371 \nL 365.25767 242.071049 \nL 369.315852 247.71021 \nL 373.374034 242.071049 \nL 377.432216 247.71021 \nL 381.490398 242.071049 \nL 385.54858 242.071049 \nL 389.606761 258.988531 \nL 393.664943 247.71021 \nL 397.723125 236.431888 \nL 401.781307 247.71021 \nL 405.839489 230.792727 \nL 409.89767 213.875245 \nL 413.955852 230.792727 \nL 418.014034 258.988531 \nL 422.072216 253.349371 \nL 426.130398 253.349371 \nL 430.18858 253.349371 \nL 434.246761 253.349371 \nL 438.304943 242.071049 \nL 442.363125 264.627692 \nL 446.421307 242.071049 \nL 450.479489 258.988531 \nL 454.53767 236.431888 \nL 458.595852 242.071049 \nL 462.654034 84.174545 \nL 466.712216 72.896224 \n\" clip-path=\"url(#p023f6a219d)\" style=\"fill: none; stroke: #2ca02c; stroke-width: 1.5; stroke-linecap: square\"/>\n   </g>\n   <g id=\"patch_3\">\n    <path d=\"M 40.603125 450.72 \nL 40.603125 7.2 \n\" style=\"fill: none; stroke: #000000; stroke-width: 0.8; stroke-linejoin: miter; stroke-linecap: square\"/>\n   </g>\n   <g id=\"patch_4\">\n    <path d=\"M 487.003125 450.72 \nL 487.003125 7.2 \n\" style=\"fill: none; stroke: #000000; stroke-width: 0.8; stroke-linejoin: miter; stroke-linecap: square\"/>\n   </g>\n   <g id=\"patch_5\">\n    <path d=\"M 40.603125 450.72 \nL 487.003125 450.72 \n\" style=\"fill: none; stroke: #000000; stroke-width: 0.8; stroke-linejoin: miter; stroke-linecap: square\"/>\n   </g>\n   <g id=\"patch_6\">\n    <path d=\"M 40.603125 7.2 \nL 487.003125 7.2 \n\" style=\"fill: none; stroke: #000000; stroke-width: 0.8; stroke-linejoin: miter; stroke-linecap: square\"/>\n   </g>\n   <g id=\"legend_1\">\n    <g id=\"patch_7\">\n     <path d=\"M 397.61875 59.234375 \nL 480.003125 59.234375 \nQ 482.003125 59.234375 482.003125 57.234375 \nL 482.003125 14.2 \nQ 482.003125 12.2 480.003125 12.2 \nL 397.61875 12.2 \nQ 395.61875 12.2 395.61875 14.2 \nL 395.61875 57.234375 \nQ 395.61875 59.234375 397.61875 59.234375 \nz\n\" style=\"fill: #ffffff; opacity: 0.8; stroke: #cccccc; stroke-linejoin: miter\"/>\n    </g>\n    <g id=\"line2d_32\">\n     <path d=\"M 399.61875 20.298437 \nL 409.61875 20.298437 \nL 419.61875 20.298437 \n\" style=\"fill: none; stroke: #1f77b4; stroke-width: 1.5; stroke-linecap: square\"/>\n    </g>\n    <g id=\"text_17\">\n     <!-- average -->\n     <g transform=\"translate(427.61875 23.798437)scale(0.1 -0.1)\">\n      <defs>\n       <path id=\"DejaVuSans-76\" d=\"M 191 3500 \nL 800 3500 \nL 1894 563 \nL 2988 3500 \nL 3597 3500 \nL 2284 0 \nL 1503 0 \nL 191 3500 \nz\n\" transform=\"scale(0.015625)\"/>\n       <path id=\"DejaVuSans-67\" d=\"M 2906 1791 \nQ 2906 2416 2648 2759 \nQ 2391 3103 1925 3103 \nQ 1463 3103 1205 2759 \nQ 947 2416 947 1791 \nQ 947 1169 1205 825 \nQ 1463 481 1925 481 \nQ 2391 481 2648 825 \nQ 2906 1169 2906 1791 \nz\nM 3481 434 \nQ 3481 -459 3084 -895 \nQ 2688 -1331 1869 -1331 \nQ 1566 -1331 1297 -1286 \nQ 1028 -1241 775 -1147 \nL 775 -588 \nQ 1028 -725 1275 -790 \nQ 1522 -856 1778 -856 \nQ 2344 -856 2625 -561 \nQ 2906 -266 2906 331 \nL 2906 616 \nQ 2728 306 2450 153 \nQ 2172 0 1784 0 \nQ 1141 0 747 490 \nQ 353 981 353 1791 \nQ 353 2603 747 3093 \nQ 1141 3584 1784 3584 \nQ 2172 3584 2450 3431 \nQ 2728 3278 2906 2969 \nL 2906 3500 \nL 3481 3500 \nL 3481 434 \nz\n\" transform=\"scale(0.015625)\"/>\n      </defs>\n      <use xlink:href=\"#DejaVuSans-61\"/>\n      <use xlink:href=\"#DejaVuSans-76\" x=\"61.279297\"/>\n      <use xlink:href=\"#DejaVuSans-65\" x=\"120.458984\"/>\n      <use xlink:href=\"#DejaVuSans-72\" x=\"181.982422\"/>\n      <use xlink:href=\"#DejaVuSans-61\" x=\"223.095703\"/>\n      <use xlink:href=\"#DejaVuSans-67\" x=\"284.375\"/>\n      <use xlink:href=\"#DejaVuSans-65\" x=\"347.851562\"/>\n     </g>\n    </g>\n    <g id=\"line2d_33\">\n     <path d=\"M 399.61875 34.976562 \nL 409.61875 34.976562 \nL 419.61875 34.976562 \n\" style=\"fill: none; stroke: #ff7f0e; stroke-width: 1.5; stroke-linecap: square\"/>\n    </g>\n    <g id=\"text_18\">\n     <!-- minimum -->\n     <g transform=\"translate(427.61875 38.476562)scale(0.1 -0.1)\">\n      <defs>\n       <path id=\"DejaVuSans-6d\" d=\"M 3328 2828 \nQ 3544 3216 3844 3400 \nQ 4144 3584 4550 3584 \nQ 5097 3584 5394 3201 \nQ 5691 2819 5691 2113 \nL 5691 0 \nL 5113 0 \nL 5113 2094 \nQ 5113 2597 4934 2840 \nQ 4756 3084 4391 3084 \nQ 3944 3084 3684 2787 \nQ 3425 2491 3425 1978 \nL 3425 0 \nL 2847 0 \nL 2847 2094 \nQ 2847 2600 2669 2842 \nQ 2491 3084 2119 3084 \nQ 1678 3084 1418 2786 \nQ 1159 2488 1159 1978 \nL 1159 0 \nL 581 0 \nL 581 3500 \nL 1159 3500 \nL 1159 2956 \nQ 1356 3278 1631 3431 \nQ 1906 3584 2284 3584 \nQ 2666 3584 2933 3390 \nQ 3200 3197 3328 2828 \nz\n\" transform=\"scale(0.015625)\"/>\n       <path id=\"DejaVuSans-75\" d=\"M 544 1381 \nL 544 3500 \nL 1119 3500 \nL 1119 1403 \nQ 1119 906 1312 657 \nQ 1506 409 1894 409 \nQ 2359 409 2629 706 \nQ 2900 1003 2900 1516 \nL 2900 3500 \nL 3475 3500 \nL 3475 0 \nL 2900 0 \nL 2900 538 \nQ 2691 219 2414 64 \nQ 2138 -91 1772 -91 \nQ 1169 -91 856 284 \nQ 544 659 544 1381 \nz\nM 1991 3584 \nL 1991 3584 \nz\n\" transform=\"scale(0.015625)\"/>\n      </defs>\n      <use xlink:href=\"#DejaVuSans-6d\"/>\n      <use xlink:href=\"#DejaVuSans-69\" x=\"97.412109\"/>\n      <use xlink:href=\"#DejaVuSans-6e\" x=\"125.195312\"/>\n      <use xlink:href=\"#DejaVuSans-69\" x=\"188.574219\"/>\n      <use xlink:href=\"#DejaVuSans-6d\" x=\"216.357422\"/>\n      <use xlink:href=\"#DejaVuSans-75\" x=\"313.769531\"/>\n      <use xlink:href=\"#DejaVuSans-6d\" x=\"377.148438\"/>\n     </g>\n    </g>\n    <g id=\"line2d_34\">\n     <path d=\"M 399.61875 49.654687 \nL 409.61875 49.654687 \nL 419.61875 49.654687 \n\" style=\"fill: none; stroke: #2ca02c; stroke-width: 1.5; stroke-linecap: square\"/>\n    </g>\n    <g id=\"text_19\">\n     <!-- maximum -->\n     <g transform=\"translate(427.61875 53.154687)scale(0.1 -0.1)\">\n      <defs>\n       <path id=\"DejaVuSans-78\" d=\"M 3513 3500 \nL 2247 1797 \nL 3578 0 \nL 2900 0 \nL 1881 1375 \nL 863 0 \nL 184 0 \nL 1544 1831 \nL 300 3500 \nL 978 3500 \nL 1906 2253 \nL 2834 3500 \nL 3513 3500 \nz\n\" transform=\"scale(0.015625)\"/>\n      </defs>\n      <use xlink:href=\"#DejaVuSans-6d\"/>\n      <use xlink:href=\"#DejaVuSans-61\" x=\"97.412109\"/>\n      <use xlink:href=\"#DejaVuSans-78\" x=\"158.691406\"/>\n      <use xlink:href=\"#DejaVuSans-69\" x=\"217.871094\"/>\n      <use xlink:href=\"#DejaVuSans-6d\" x=\"245.654297\"/>\n      <use xlink:href=\"#DejaVuSans-75\" x=\"343.066406\"/>\n      <use xlink:href=\"#DejaVuSans-6d\" x=\"406.445312\"/>\n     </g>\n    </g>\n   </g>\n  </g>\n </g>\n <defs>\n  <clipPath id=\"p023f6a219d\">\n   <rect x=\"40.603125\" y=\"7.2\" width=\"446.4\" height=\"443.52\"/>\n  </clipPath>\n </defs>\n</svg>\n",
      "text/plain": [
       "<Figure size 800x800 with 1 Axes>"
      ]
     },
     "metadata": {},
     "output_type": "display_data"
    },
    {
     "data": {
      "image/png": "[encoded data removed]",
      "image/svg+xml": "<?xml version=\"1.0\" encoding=\"utf-8\" standalone=\"no\"?>\n<!DOCTYPE svg PUBLIC \"-//W3C//DTD SVG 1.1//EN\"\n  \"http://www.w3.org/Graphics/SVG/1.1/DTD/svg11.dtd\">\n<svg xmlns:xlink=\"http://www.w3.org/1999/xlink\" width=\"494.203125pt\" height=\"488.27625pt\" viewBox=\"0 0 494.203125 488.27625\" xmlns=\"http://www.w3.org/2000/svg\" version=\"1.1\">\n <metadata>\n  <rdf:RDF xmlns:dc=\"http://purl.org/dc/elements/1.1/\" xmlns:cc=\"http://creativecommons.org/ns#\" xmlns:rdf=\"http://www.w3.org/1999/02/22-rdf-syntax-ns#\">\n   <cc:Work>\n    <dc:type rdf:resource=\"http://purl.org/dc/dcmitype/StillImage\"/>\n    <dc:date>2022-11-15T22:58:14.780025</dc:date>\n    <dc:format>image/svg+xml</dc:format>\n    <dc:creator>\n     <cc:Agent>\n      <dc:title>Matplotlib v3.5.3, https://matplotlib.org/</dc:title>\n     </cc:Agent>\n    </dc:creator>\n   </cc:Work>\n  </rdf:RDF>\n </metadata>\n <defs>\n  <style type=\"text/css\">*{stroke-linejoin: round; stroke-linecap: butt}</style>\n </defs>\n <g id=\"figure_1\">\n  <g id=\"patch_1\">\n   <path d=\"M 0 488.27625 \nL 494.203125 488.27625 \nL 494.203125 0 \nL 0 0 \nz\n\" style=\"fill: #ffffff\"/>\n  </g>\n  <g id=\"axes_1\">\n   <g id=\"patch_2\">\n    <path d=\"M 40.603125 450.72 \nL 487.003125 450.72 \nL 487.003125 7.2 \nL 40.603125 7.2 \nz\n\" style=\"fill: #ffffff\"/>\n   </g>\n   <g id=\"matplotlib.axis_1\">\n    <g id=\"xtick_1\">\n     <g id=\"line2d_1\">\n      <path d=\"M 60.894034 450.72 \nL 60.894034 7.2 \n\" clip-path=\"url(#pa646b1afa9)\" style=\"fill: none; stroke: #b0b0b0; stroke-width: 0.8; stroke-linecap: square\"/>\n     </g>\n     <g id=\"line2d_2\">\n      <defs>\n       <path id=\"m16fea8c980\" d=\"M 0 0 \nL 0 3.5 \n\" style=\"stroke: #000000; stroke-width: 0.8\"/>\n      </defs>\n      <g>\n       <use xlink:href=\"#m16fea8c980\" x=\"60.894034\" y=\"450.72\" style=\"stroke: #000000; stroke-width: 0.8\"/>\n      </g>\n     </g>\n     <g id=\"text_1\">\n      <!-- 0 -->\n      <g transform=\"translate(57.712784 465.318437)scale(0.1 -0.1)\">\n       <defs>\n        <path id=\"DejaVuSans-30\" d=\"M 2034 4250 \nQ 1547 4250 1301 3770 \nQ 1056 3291 1056 2328 \nQ 1056 1369 1301 889 \nQ 1547 409 2034 409 \nQ 2525 409 2770 889 \nQ 3016 1369 3016 2328 \nQ 3016 3291 2770 3770 \nQ 2525 4250 2034 4250 \nz\nM 2034 4750 \nQ 2819 4750 3233 4129 \nQ 3647 3509 3647 2328 \nQ 3647 1150 3233 529 \nQ 2819 -91 2034 -91 \nQ 1250 -91 836 529 \nQ 422 1150 422 2328 \nQ 422 3509 836 4129 \nQ 1250 4750 2034 4750 \nz\n\" transform=\"scale(0.015625)\"/>\n       </defs>\n       <use xlink:href=\"#DejaVuSans-30\"/>\n      </g>\n     </g>\n    </g>\n    <g id=\"xtick_2\">\n     <g id=\"line2d_3\">\n      <path d=\"M 142.05767 450.72 \nL 142.05767 7.2 \n\" clip-path=\"url(#pa646b1afa9)\" style=\"fill: none; stroke: #b0b0b0; stroke-width: 0.8; stroke-linecap: square\"/>\n     </g>\n     <g id=\"line2d_4\">\n      <g>\n       <use xlink:href=\"#m16fea8c980\" x=\"142.05767\" y=\"450.72\" style=\"stroke: #000000; stroke-width: 0.8\"/>\n      </g>\n     </g>\n     <g id=\"text_2\">\n      <!-- 20 -->\n      <g transform=\"translate(135.69517 465.318437)scale(0.1 -0.1)\">\n       <defs>\n        <path id=\"DejaVuSans-32\" d=\"M 1228 531 \nL 3431 531 \nL 3431 0 \nL 469 0 \nL 469 531 \nQ 828 903 1448 1529 \nQ 2069 2156 2228 2338 \nQ 2531 2678 2651 2914 \nQ 2772 3150 2772 3378 \nQ 2772 3750 2511 3984 \nQ 2250 4219 1831 4219 \nQ 1534 4219 1204 4116 \nQ 875 4013 500 3803 \nL 500 4441 \nQ 881 4594 1212 4672 \nQ 1544 4750 1819 4750 \nQ 2544 4750 2975 4387 \nQ 3406 4025 3406 3419 \nQ 3406 3131 3298 2873 \nQ 3191 2616 2906 2266 \nQ 2828 2175 2409 1742 \nQ 1991 1309 1228 531 \nz\n\" transform=\"scale(0.015625)\"/>\n       </defs>\n       <use xlink:href=\"#DejaVuSans-32\"/>\n       <use xlink:href=\"#DejaVuSans-30\" x=\"63.623047\"/>\n      </g>\n     </g>\n    </g>\n    <g id=\"xtick_3\">\n     <g id=\"line2d_5\">\n      <path d=\"M 223.221307 450.72 \nL 223.221307 7.2 \n\" clip-path=\"url(#pa646b1afa9)\" style=\"fill: none; stroke: #b0b0b0; stroke-width: 0.8; stroke-linecap: square\"/>\n     </g>\n     <g id=\"line2d_6\">\n      <g>\n       <use xlink:href=\"#m16fea8c980\" x=\"223.221307\" y=\"450.72\" style=\"stroke: #000000; stroke-width: 0.8\"/>\n      </g>\n     </g>\n     <g id=\"text_3\">\n      <!-- 40 -->\n      <g transform=\"translate(216.858807 465.318437)scale(0.1 -0.1)\">\n       <defs>\n        <path id=\"DejaVuSans-34\" d=\"M 2419 4116 \nL 825 1625 \nL 2419 1625 \nL 2419 4116 \nz\nM 2253 4666 \nL 3047 4666 \nL 3047 1625 \nL 3713 1625 \nL 3713 1100 \nL 3047 1100 \nL 3047 0 \nL 2419 0 \nL 2419 1100 \nL 313 1100 \nL 313 1709 \nL 2253 4666 \nz\n\" transform=\"scale(0.015625)\"/>\n       </defs>\n       <use xlink:href=\"#DejaVuSans-34\"/>\n       <use xlink:href=\"#DejaVuSans-30\" x=\"63.623047\"/>\n      </g>\n     </g>\n    </g>\n    <g id=\"xtick_4\">\n     <g id=\"line2d_7\">\n      <path d=\"M 304.384943 450.72 \nL 304.384943 7.2 \n\" clip-path=\"url(#pa646b1afa9)\" style=\"fill: none; stroke: #b0b0b0; stroke-width: 0.8; stroke-linecap: square\"/>\n     </g>\n     <g id=\"line2d_8\">\n      <g>\n       <use xlink:href=\"#m16fea8c980\" x=\"304.384943\" y=\"450.72\" style=\"stroke: #000000; stroke-width: 0.8\"/>\n      </g>\n     </g>\n     <g id=\"text_4\">\n      <!-- 60 -->\n      <g transform=\"translate(298.022443 465.318437)scale(0.1 -0.1)\">\n       <defs>\n        <path id=\"DejaVuSans-36\" d=\"M 2113 2584 \nQ 1688 2584 1439 2293 \nQ 1191 2003 1191 1497 \nQ 1191 994 1439 701 \nQ 1688 409 2113 409 \nQ 2538 409 2786 701 \nQ 3034 994 3034 1497 \nQ 3034 2003 2786 2293 \nQ 2538 2584 2113 2584 \nz\nM 3366 4563 \nL 3366 3988 \nQ 3128 4100 2886 4159 \nQ 2644 4219 2406 4219 \nQ 1781 4219 1451 3797 \nQ 1122 3375 1075 2522 \nQ 1259 2794 1537 2939 \nQ 1816 3084 2150 3084 \nQ 2853 3084 3261 2657 \nQ 3669 2231 3669 1497 \nQ 3669 778 3244 343 \nQ 2819 -91 2113 -91 \nQ 1303 -91 875 529 \nQ 447 1150 447 2328 \nQ 447 3434 972 4092 \nQ 1497 4750 2381 4750 \nQ 2619 4750 2861 4703 \nQ 3103 4656 3366 4563 \nz\n\" transform=\"scale(0.015625)\"/>\n       </defs>\n       <use xlink:href=\"#DejaVuSans-36\"/>\n       <use xlink:href=\"#DejaVuSans-30\" x=\"63.623047\"/>\n      </g>\n     </g>\n    </g>\n    <g id=\"xtick_5\">\n     <g id=\"line2d_9\">\n      <path d=\"M 385.54858 450.72 \nL 385.54858 7.2 \n\" clip-path=\"url(#pa646b1afa9)\" style=\"fill: none; stroke: #b0b0b0; stroke-width: 0.8; stroke-linecap: square\"/>\n     </g>\n     <g id=\"line2d_10\">\n      <g>\n       <use xlink:href=\"#m16fea8c980\" x=\"385.54858\" y=\"450.72\" style=\"stroke: #000000; stroke-width: 0.8\"/>\n      </g>\n     </g>\n     <g id=\"text_5\">\n      <!-- 80 -->\n      <g transform=\"translate(379.18608 465.318437)scale(0.1 -0.1)\">\n       <defs>\n        <path id=\"DejaVuSans-38\" d=\"M 2034 2216 \nQ 1584 2216 1326 1975 \nQ 1069 1734 1069 1313 \nQ 1069 891 1326 650 \nQ 1584 409 2034 409 \nQ 2484 409 2743 651 \nQ 3003 894 3003 1313 \nQ 3003 1734 2745 1975 \nQ 2488 2216 2034 2216 \nz\nM 1403 2484 \nQ 997 2584 770 2862 \nQ 544 3141 544 3541 \nQ 544 4100 942 4425 \nQ 1341 4750 2034 4750 \nQ 2731 4750 3128 4425 \nQ 3525 4100 3525 3541 \nQ 3525 3141 3298 2862 \nQ 3072 2584 2669 2484 \nQ 3125 2378 3379 2068 \nQ 3634 1759 3634 1313 \nQ 3634 634 3220 271 \nQ 2806 -91 2034 -91 \nQ 1263 -91 848 271 \nQ 434 634 434 1313 \nQ 434 1759 690 2068 \nQ 947 2378 1403 2484 \nz\nM 1172 3481 \nQ 1172 3119 1398 2916 \nQ 1625 2713 2034 2713 \nQ 2441 2713 2670 2916 \nQ 2900 3119 2900 3481 \nQ 2900 3844 2670 4047 \nQ 2441 4250 2034 4250 \nQ 1625 4250 1398 4047 \nQ 1172 3844 1172 3481 \nz\n\" transform=\"scale(0.015625)\"/>\n       </defs>\n       <use xlink:href=\"#DejaVuSans-38\"/>\n       <use xlink:href=\"#DejaVuSans-30\" x=\"63.623047\"/>\n      </g>\n     </g>\n    </g>\n    <g id=\"xtick_6\">\n     <g id=\"line2d_11\">\n      <path d=\"M 466.712216 450.72 \nL 466.712216 7.2 \n\" clip-path=\"url(#pa646b1afa9)\" style=\"fill: none; stroke: #b0b0b0; stroke-width: 0.8; stroke-linecap: square\"/>\n     </g>\n     <g id=\"line2d_12\">\n      <g>\n       <use xlink:href=\"#m16fea8c980\" x=\"466.712216\" y=\"450.72\" style=\"stroke: #000000; stroke-width: 0.8\"/>\n      </g>\n     </g>\n     <g id=\"text_6\">\n      <!-- 100 -->\n      <g transform=\"translate(457.168466 465.318437)scale(0.1 -0.1)\">\n       <defs>\n        <path id=\"DejaVuSans-31\" d=\"M 794 531 \nL 1825 531 \nL 1825 4091 \nL 703 3866 \nL 703 4441 \nL 1819 4666 \nL 2450 4666 \nL 2450 531 \nL 3481 531 \nL 3481 0 \nL 794 0 \nL 794 531 \nz\n\" transform=\"scale(0.015625)\"/>\n       </defs>\n       <use xlink:href=\"#DejaVuSans-31\"/>\n       <use xlink:href=\"#DejaVuSans-30\" x=\"63.623047\"/>\n       <use xlink:href=\"#DejaVuSans-30\" x=\"127.246094\"/>\n      </g>\n     </g>\n    </g>\n    <g id=\"text_7\">\n     <!-- Generation -->\n     <g transform=\"translate(235.910156 478.996562)scale(0.1 -0.1)\">\n      <defs>\n       <path id=\"DejaVuSans-47\" d=\"M 3809 666 \nL 3809 1919 \nL 2778 1919 \nL 2778 2438 \nL 4434 2438 \nL 4434 434 \nQ 4069 175 3628 42 \nQ 3188 -91 2688 -91 \nQ 1594 -91 976 548 \nQ 359 1188 359 2328 \nQ 359 3472 976 4111 \nQ 1594 4750 2688 4750 \nQ 3144 4750 3555 4637 \nQ 3966 4525 4313 4306 \nL 4313 3634 \nQ 3963 3931 3569 4081 \nQ 3175 4231 2741 4231 \nQ 1884 4231 1454 3753 \nQ 1025 3275 1025 2328 \nQ 1025 1384 1454 906 \nQ 1884 428 2741 428 \nQ 3075 428 3337 486 \nQ 3600 544 3809 666 \nz\n\" transform=\"scale(0.015625)\"/>\n       <path id=\"DejaVuSans-65\" d=\"M 3597 1894 \nL 3597 1613 \nL 953 1613 \nQ 991 1019 1311 708 \nQ 1631 397 2203 397 \nQ 2534 397 2845 478 \nQ 3156 559 3463 722 \nL 3463 178 \nQ 3153 47 2828 -22 \nQ 2503 -91 2169 -91 \nQ 1331 -91 842 396 \nQ 353 884 353 1716 \nQ 353 2575 817 3079 \nQ 1281 3584 2069 3584 \nQ 2775 3584 3186 3129 \nQ 3597 2675 3597 1894 \nz\nM 3022 2063 \nQ 3016 2534 2758 2815 \nQ 2500 3097 2075 3097 \nQ 1594 3097 1305 2825 \nQ 1016 2553 972 2059 \nL 3022 2063 \nz\n\" transform=\"scale(0.015625)\"/>\n       <path id=\"DejaVuSans-6e\" d=\"M 3513 2113 \nL 3513 0 \nL 2938 0 \nL 2938 2094 \nQ 2938 2591 2744 2837 \nQ 2550 3084 2163 3084 \nQ 1697 3084 1428 2787 \nQ 1159 2491 1159 1978 \nL 1159 0 \nL 581 0 \nL 581 3500 \nL 1159 3500 \nL 1159 2956 \nQ 1366 3272 1645 3428 \nQ 1925 3584 2291 3584 \nQ 2894 3584 3203 3211 \nQ 3513 2838 3513 2113 \nz\n\" transform=\"scale(0.015625)\"/>\n       <path id=\"DejaVuSans-72\" d=\"M 2631 2963 \nQ 2534 3019 2420 3045 \nQ 2306 3072 2169 3072 \nQ 1681 3072 1420 2755 \nQ 1159 2438 1159 1844 \nL 1159 0 \nL 581 0 \nL 581 3500 \nL 1159 3500 \nL 1159 2956 \nQ 1341 3275 1631 3429 \nQ 1922 3584 2338 3584 \nQ 2397 3584 2469 3576 \nQ 2541 3569 2628 3553 \nL 2631 2963 \nz\n\" transform=\"scale(0.015625)\"/>\n       <path id=\"DejaVuSans-61\" d=\"M 2194 1759 \nQ 1497 1759 1228 1600 \nQ 959 1441 959 1056 \nQ 959 750 1161 570 \nQ 1363 391 1709 391 \nQ 2188 391 2477 730 \nQ 2766 1069 2766 1631 \nL 2766 1759 \nL 2194 1759 \nz\nM 3341 1997 \nL 3341 0 \nL 2766 0 \nL 2766 531 \nQ 2569 213 2275 61 \nQ 1981 -91 1556 -91 \nQ 1019 -91 701 211 \nQ 384 513 384 1019 \nQ 384 1609 779 1909 \nQ 1175 2209 1959 2209 \nL 2766 2209 \nL 2766 2266 \nQ 2766 2663 2505 2880 \nQ 2244 3097 1772 3097 \nQ 1472 3097 1187 3025 \nQ 903 2953 641 2809 \nL 641 3341 \nQ 956 3463 1253 3523 \nQ 1550 3584 1831 3584 \nQ 2591 3584 2966 3190 \nQ 3341 2797 3341 1997 \nz\n\" transform=\"scale(0.015625)\"/>\n       <path id=\"DejaVuSans-74\" d=\"M 1172 4494 \nL 1172 3500 \nL 2356 3500 \nL 2356 3053 \nL 1172 3053 \nL 1172 1153 \nQ 1172 725 1289 603 \nQ 1406 481 1766 481 \nL 2356 481 \nL 2356 0 \nL 1766 0 \nQ 1100 0 847 248 \nQ 594 497 594 1153 \nL 594 3053 \nL 172 3053 \nL 172 3500 \nL 594 3500 \nL 594 4494 \nL 1172 4494 \nz\n\" transform=\"scale(0.015625)\"/>\n       <path id=\"DejaVuSans-69\" d=\"M 603 3500 \nL 1178 3500 \nL 1178 0 \nL 603 0 \nL 603 3500 \nz\nM 603 4863 \nL 1178 4863 \nL 1178 4134 \nL 603 4134 \nL 603 4863 \nz\n\" transform=\"scale(0.015625)\"/>\n       <path id=\"DejaVuSans-6f\" d=\"M 1959 3097 \nQ 1497 3097 1228 2736 \nQ 959 2375 959 1747 \nQ 959 1119 1226 758 \nQ 1494 397 1959 397 \nQ 2419 397 2687 759 \nQ 2956 1122 2956 1747 \nQ 2956 2369 2687 2733 \nQ 2419 3097 1959 3097 \nz\nM 1959 3584 \nQ 2709 3584 3137 3096 \nQ 3566 2609 3566 1747 \nQ 3566 888 3137 398 \nQ 2709 -91 1959 -91 \nQ 1206 -91 779 398 \nQ 353 888 353 1747 \nQ 353 2609 779 3096 \nQ 1206 3584 1959 3584 \nz\n\" transform=\"scale(0.015625)\"/>\n      </defs>\n      <use xlink:href=\"#DejaVuSans-47\"/>\n      <use xlink:href=\"#DejaVuSans-65\" x=\"77.490234\"/>\n      <use xlink:href=\"#DejaVuSans-6e\" x=\"139.013672\"/>\n      <use xlink:href=\"#DejaVuSans-65\" x=\"202.392578\"/>\n      <use xlink:href=\"#DejaVuSans-72\" x=\"263.916016\"/>\n      <use xlink:href=\"#DejaVuSans-61\" x=\"305.029297\"/>\n      <use xlink:href=\"#DejaVuSans-74\" x=\"366.308594\"/>\n      <use xlink:href=\"#DejaVuSans-69\" x=\"405.517578\"/>\n      <use xlink:href=\"#DejaVuSans-6f\" x=\"433.300781\"/>\n      <use xlink:href=\"#DejaVuSans-6e\" x=\"494.482422\"/>\n     </g>\n    </g>\n   </g>\n   <g id=\"matplotlib.axis_2\">\n    <g id=\"ytick_1\">\n     <g id=\"line2d_13\">\n      <path d=\"M 40.603125 445.297995 \nL 487.003125 445.297995 \n\" clip-path=\"url(#pa646b1afa9)\" style=\"fill: none; stroke: #b0b0b0; stroke-width: 0.8; stroke-linecap: square\"/>\n     </g>\n     <g id=\"line2d_14\">\n      <defs>\n       <path id=\"ma8d5c0f300\" d=\"M 0 0 \nL -3.5 0 \n\" style=\"stroke: #000000; stroke-width: 0.8\"/>\n      </defs>\n      <g>\n       <use xlink:href=\"#ma8d5c0f300\" x=\"40.603125\" y=\"445.297995\" style=\"stroke: #000000; stroke-width: 0.8\"/>\n      </g>\n     </g>\n     <g id=\"text_8\">\n      <!-- 0 -->\n      <g transform=\"translate(27.240625 449.097214)scale(0.1 -0.1)\">\n       <use xlink:href=\"#DejaVuSans-30\"/>\n      </g>\n     </g>\n    </g>\n    <g id=\"ytick_2\">\n     <g id=\"line2d_15\">\n      <path d=\"M 40.603125 391.077946 \nL 487.003125 391.077946 \n\" clip-path=\"url(#pa646b1afa9)\" style=\"fill: none; stroke: #b0b0b0; stroke-width: 0.8; stroke-linecap: square\"/>\n     </g>\n     <g id=\"line2d_16\">\n      <g>\n       <use xlink:href=\"#ma8d5c0f300\" x=\"40.603125\" y=\"391.077946\" style=\"stroke: #000000; stroke-width: 0.8\"/>\n      </g>\n     </g>\n     <g id=\"text_9\">\n      <!-- 10 -->\n      <g transform=\"translate(20.878125 394.877165)scale(0.1 -0.1)\">\n       <use xlink:href=\"#DejaVuSans-31\"/>\n       <use xlink:href=\"#DejaVuSans-30\" x=\"63.623047\"/>\n      </g>\n     </g>\n    </g>\n    <g id=\"ytick_3\">\n     <g id=\"line2d_17\">\n      <path d=\"M 40.603125 336.857897 \nL 487.003125 336.857897 \n\" clip-path=\"url(#pa646b1afa9)\" style=\"fill: none; stroke: #b0b0b0; stroke-width: 0.8; stroke-linecap: square\"/>\n     </g>\n     <g id=\"line2d_18\">\n      <g>\n       <use xlink:href=\"#ma8d5c0f300\" x=\"40.603125\" y=\"336.857897\" style=\"stroke: #000000; stroke-width: 0.8\"/>\n      </g>\n     </g>\n     <g id=\"text_10\">\n      <!-- 20 -->\n      <g transform=\"translate(20.878125 340.657116)scale(0.1 -0.1)\">\n       <use xlink:href=\"#DejaVuSans-32\"/>\n       <use xlink:href=\"#DejaVuSans-30\" x=\"63.623047\"/>\n      </g>\n     </g>\n    </g>\n    <g id=\"ytick_4\">\n     <g id=\"line2d_19\">\n      <path d=\"M 40.603125 282.637848 \nL 487.003125 282.637848 \n\" clip-path=\"url(#pa646b1afa9)\" style=\"fill: none; stroke: #b0b0b0; stroke-width: 0.8; stroke-linecap: square\"/>\n     </g>\n     <g id=\"line2d_20\">\n      <g>\n       <use xlink:href=\"#ma8d5c0f300\" x=\"40.603125\" y=\"282.637848\" style=\"stroke: #000000; stroke-width: 0.8\"/>\n      </g>\n     </g>\n     <g id=\"text_11\">\n      <!-- 30 -->\n      <g transform=\"translate(20.878125 286.437067)scale(0.1 -0.1)\">\n       <defs>\n        <path id=\"DejaVuSans-33\" d=\"M 2597 2516 \nQ 3050 2419 3304 2112 \nQ 3559 1806 3559 1356 \nQ 3559 666 3084 287 \nQ 2609 -91 1734 -91 \nQ 1441 -91 1130 -33 \nQ 819 25 488 141 \nL 488 750 \nQ 750 597 1062 519 \nQ 1375 441 1716 441 \nQ 2309 441 2620 675 \nQ 2931 909 2931 1356 \nQ 2931 1769 2642 2001 \nQ 2353 2234 1838 2234 \nL 1294 2234 \nL 1294 2753 \nL 1863 2753 \nQ 2328 2753 2575 2939 \nQ 2822 3125 2822 3475 \nQ 2822 3834 2567 4026 \nQ 2313 4219 1838 4219 \nQ 1578 4219 1281 4162 \nQ 984 4106 628 3988 \nL 628 4550 \nQ 988 4650 1302 4700 \nQ 1616 4750 1894 4750 \nQ 2613 4750 3031 4423 \nQ 3450 4097 3450 3541 \nQ 3450 3153 3228 2886 \nQ 3006 2619 2597 2516 \nz\n\" transform=\"scale(0.015625)\"/>\n       </defs>\n       <use xlink:href=\"#DejaVuSans-33\"/>\n       <use xlink:href=\"#DejaVuSans-30\" x=\"63.623047\"/>\n      </g>\n     </g>\n    </g>\n    <g id=\"ytick_5\">\n     <g id=\"line2d_21\">\n      <path d=\"M 40.603125 228.4178 \nL 487.003125 228.4178 \n\" clip-path=\"url(#pa646b1afa9)\" style=\"fill: none; stroke: #b0b0b0; stroke-width: 0.8; stroke-linecap: square\"/>\n     </g>\n     <g id=\"line2d_22\">\n      <g>\n       <use xlink:href=\"#ma8d5c0f300\" x=\"40.603125\" y=\"228.4178\" style=\"stroke: #000000; stroke-width: 0.8\"/>\n      </g>\n     </g>\n     <g id=\"text_12\">\n      <!-- 40 -->\n      <g transform=\"translate(20.878125 232.217018)scale(0.1 -0.1)\">\n       <use xlink:href=\"#DejaVuSans-34\"/>\n       <use xlink:href=\"#DejaVuSans-30\" x=\"63.623047\"/>\n      </g>\n     </g>\n    </g>\n    <g id=\"ytick_6\">\n     <g id=\"line2d_23\">\n      <path d=\"M 40.603125 174.197751 \nL 487.003125 174.197751 \n\" clip-path=\"url(#pa646b1afa9)\" style=\"fill: none; stroke: #b0b0b0; stroke-width: 0.8; stroke-linecap: square\"/>\n     </g>\n     <g id=\"line2d_24\">\n      <g>\n       <use xlink:href=\"#ma8d5c0f300\" x=\"40.603125\" y=\"174.197751\" style=\"stroke: #000000; stroke-width: 0.8\"/>\n      </g>\n     </g>\n     <g id=\"text_13\">\n      <!-- 50 -->\n      <g transform=\"translate(20.878125 177.996969)scale(0.1 -0.1)\">\n       <defs>\n        <path id=\"DejaVuSans-35\" d=\"M 691 4666 \nL 3169 4666 \nL 3169 4134 \nL 1269 4134 \nL 1269 2991 \nQ 1406 3038 1543 3061 \nQ 1681 3084 1819 3084 \nQ 2600 3084 3056 2656 \nQ 3513 2228 3513 1497 \nQ 3513 744 3044 326 \nQ 2575 -91 1722 -91 \nQ 1428 -91 1123 -41 \nQ 819 9 494 109 \nL 494 744 \nQ 775 591 1075 516 \nQ 1375 441 1709 441 \nQ 2250 441 2565 725 \nQ 2881 1009 2881 1497 \nQ 2881 1984 2565 2268 \nQ 2250 2553 1709 2553 \nQ 1456 2553 1204 2497 \nQ 953 2441 691 2322 \nL 691 4666 \nz\n\" transform=\"scale(0.015625)\"/>\n       </defs>\n       <use xlink:href=\"#DejaVuSans-35\"/>\n       <use xlink:href=\"#DejaVuSans-30\" x=\"63.623047\"/>\n      </g>\n     </g>\n    </g>\n    <g id=\"ytick_7\">\n     <g id=\"line2d_25\">\n      <path d=\"M 40.603125 119.977702 \nL 487.003125 119.977702 \n\" clip-path=\"url(#pa646b1afa9)\" style=\"fill: none; stroke: #b0b0b0; stroke-width: 0.8; stroke-linecap: square\"/>\n     </g>\n     <g id=\"line2d_26\">\n      <g>\n       <use xlink:href=\"#ma8d5c0f300\" x=\"40.603125\" y=\"119.977702\" style=\"stroke: #000000; stroke-width: 0.8\"/>\n      </g>\n     </g>\n     <g id=\"text_14\">\n      <!-- 60 -->\n      <g transform=\"translate(20.878125 123.77692)scale(0.1 -0.1)\">\n       <use xlink:href=\"#DejaVuSans-36\"/>\n       <use xlink:href=\"#DejaVuSans-30\" x=\"63.623047\"/>\n      </g>\n     </g>\n    </g>\n    <g id=\"ytick_8\">\n     <g id=\"line2d_27\">\n      <path d=\"M 40.603125 65.757653 \nL 487.003125 65.757653 \n\" clip-path=\"url(#pa646b1afa9)\" style=\"fill: none; stroke: #b0b0b0; stroke-width: 0.8; stroke-linecap: square\"/>\n     </g>\n     <g id=\"line2d_28\">\n      <g>\n       <use xlink:href=\"#ma8d5c0f300\" x=\"40.603125\" y=\"65.757653\" style=\"stroke: #000000; stroke-width: 0.8\"/>\n      </g>\n     </g>\n     <g id=\"text_15\">\n      <!-- 70 -->\n      <g transform=\"translate(20.878125 69.556872)scale(0.1 -0.1)\">\n       <defs>\n        <path id=\"DejaVuSans-37\" d=\"M 525 4666 \nL 3525 4666 \nL 3525 4397 \nL 1831 0 \nL 1172 0 \nL 2766 4134 \nL 525 4134 \nL 525 4666 \nz\n\" transform=\"scale(0.015625)\"/>\n       </defs>\n       <use xlink:href=\"#DejaVuSans-37\"/>\n       <use xlink:href=\"#DejaVuSans-30\" x=\"63.623047\"/>\n      </g>\n     </g>\n    </g>\n    <g id=\"ytick_9\">\n     <g id=\"line2d_29\">\n      <path d=\"M 40.603125 11.537604 \nL 487.003125 11.537604 \n\" clip-path=\"url(#pa646b1afa9)\" style=\"fill: none; stroke: #b0b0b0; stroke-width: 0.8; stroke-linecap: square\"/>\n     </g>\n     <g id=\"line2d_30\">\n      <g>\n       <use xlink:href=\"#ma8d5c0f300\" x=\"40.603125\" y=\"11.537604\" style=\"stroke: #000000; stroke-width: 0.8\"/>\n      </g>\n     </g>\n     <g id=\"text_16\">\n      <!-- 80 -->\n      <g transform=\"translate(20.878125 15.336823)scale(0.1 -0.1)\">\n       <use xlink:href=\"#DejaVuSans-38\"/>\n       <use xlink:href=\"#DejaVuSans-30\" x=\"63.623047\"/>\n      </g>\n     </g>\n    </g>\n    <g id=\"text_17\">\n     <!-- Fitness -->\n     <g transform=\"translate(14.798438 246.277187)rotate(-90)scale(0.1 -0.1)\">\n      <defs>\n       <path id=\"DejaVuSans-46\" d=\"M 628 4666 \nL 3309 4666 \nL 3309 4134 \nL 1259 4134 \nL 1259 2759 \nL 3109 2759 \nL 3109 2228 \nL 1259 2228 \nL 1259 0 \nL 628 0 \nL 628 4666 \nz\n\" transform=\"scale(0.015625)\"/>\n       <path id=\"DejaVuSans-73\" d=\"M 2834 3397 \nL 2834 2853 \nQ 2591 2978 2328 3040 \nQ 2066 3103 1784 3103 \nQ 1356 3103 1142 2972 \nQ 928 2841 928 2578 \nQ 928 2378 1081 2264 \nQ 1234 2150 1697 2047 \nL 1894 2003 \nQ 2506 1872 2764 1633 \nQ 3022 1394 3022 966 \nQ 3022 478 2636 193 \nQ 2250 -91 1575 -91 \nQ 1294 -91 989 -36 \nQ 684 19 347 128 \nL 347 722 \nQ 666 556 975 473 \nQ 1284 391 1588 391 \nQ 1994 391 2212 530 \nQ 2431 669 2431 922 \nQ 2431 1156 2273 1281 \nQ 2116 1406 1581 1522 \nL 1381 1569 \nQ 847 1681 609 1914 \nQ 372 2147 372 2553 \nQ 372 3047 722 3315 \nQ 1072 3584 1716 3584 \nQ 2034 3584 2315 3537 \nQ 2597 3491 2834 3397 \nz\n\" transform=\"scale(0.015625)\"/>\n      </defs>\n      <use xlink:href=\"#DejaVuSans-46\"/>\n      <use xlink:href=\"#DejaVuSans-69\" x=\"50.269531\"/>\n      <use xlink:href=\"#DejaVuSans-74\" x=\"78.052734\"/>\n      <use xlink:href=\"#DejaVuSans-6e\" x=\"117.261719\"/>\n      <use xlink:href=\"#DejaVuSans-65\" x=\"180.640625\"/>\n      <use xlink:href=\"#DejaVuSans-73\" x=\"242.164062\"/>\n      <use xlink:href=\"#DejaVuSans-73\" x=\"294.263672\"/>\n     </g>\n    </g>\n   </g>\n   <g id=\"line2d_31\">\n    <path d=\"M 60.894034 390.047765 \nL 64.952216 379.409792 \nL 69.010398 383.140131 \nL 73.06858 383.910056 \nL 77.126761 386.263206 \nL 81.184943 392.84552 \nL 85.243125 389.126024 \nL 89.301307 385.124585 \nL 93.359489 387.271699 \nL 97.41767 390.92613 \nL 101.475852 391.479175 \nL 105.534034 391.999687 \nL 109.592216 394.407057 \nL 113.650398 397.703636 \nL 117.70858 398.202461 \nL 121.766761 395.079386 \nL 125.824943 397.692792 \nL 129.883125 396.922867 \nL 133.941307 397.98558 \nL 137.999489 404.763087 \nL 142.05767 404.882371 \nL 146.115852 406.25956 \nL 150.174034 409.024782 \nL 154.232216 405.847488 \nL 158.290398 411.215272 \nL 162.34858 405.283599 \nL 166.406761 412.679214 \nL 170.464943 407.972913 \nL 174.523125 415.281776 \nL 178.581307 417.005974 \nL 182.639489 418.762703 \nL 186.69767 423.436471 \nL 190.755852 422.601483 \nL 194.814034 420.313397 \nL 198.872216 422.427978 \nL 202.930398 422.677391 \nL 206.98858 423.555756 \nL 211.046761 422.037594 \nL 215.104943 425.97397 \nL 219.163125 426.451106 \nL 223.221307 425.301641 \nL 227.279489 421.820714 \nL 231.33767 422.503887 \nL 235.395852 424.293148 \nL 239.454034 422.785831 \nL 243.512216 423.664196 \nL 247.570398 422.276162 \nL 251.62858 424.119644 \nL 255.686761 423.8377 \nL 259.744943 422.287006 \nL 263.803125 424.932945 \nL 267.861307 420.519433 \nL 271.919489 425.876374 \nL 275.97767 422.785831 \nL 280.035852 423.685884 \nL 284.094034 424.455808 \nL 288.152216 422.872583 \nL 292.210398 421.235137 \nL 296.26858 423.794324 \nL 300.326761 421.549614 \nL 304.384943 422.037594 \nL 308.443125 421.289357 \nL 312.501307 421.571302 \nL 316.559489 423.187059 \nL 320.61767 424.900413 \nL 324.675852 423.935296 \nL 328.734034 425.312485 \nL 332.792216 426.895711 \nL 336.850398 426.949931 \nL 340.90858 428.262056 \nL 344.966761 426.234226 \nL 349.024943 427.296939 \nL 353.083125 427.947579 \nL 357.141307 431.22247 \nL 361.199489 428.945228 \nL 365.25767 425.225733 \nL 369.315852 429.747685 \nL 373.374034 429.650089 \nL 377.432216 428.750036 \nL 381.490398 428.43556 \nL 385.54858 425.681181 \nL 389.606761 428.32712 \nL 393.664943 429.845281 \nL 397.723125 427.221031 \nL 401.781307 430.810398 \nL 405.839489 426.67883 \nL 409.89767 425.225733 \nL 413.955852 427.047527 \nL 418.014034 425.735401 \nL 422.072216 426.949931 \nL 426.130398 427.014995 \nL 430.18858 428.533156 \nL 434.246761 426.852334 \nL 438.304943 427.459599 \nL 442.363125 429.335613 \nL 446.421307 430.083849 \nL 450.479489 428.207836 \nL 454.53767 427.568039 \nL 458.595852 430.235666 \nL 462.654034 428.988604 \nL 466.712216 428.59822 \n\" clip-path=\"url(#pa646b1afa9)\" style=\"fill: none; stroke: #1f77b4; stroke-width: 1.5; stroke-linecap: square\"/>\n   </g>\n   <g id=\"line2d_32\">\n    <path d=\"M 60.894034 423.609976 \nL 64.952216 423.609976 \nL 69.010398 423.609976 \nL 73.06858 429.03198 \nL 77.126761 429.03198 \nL 81.184943 429.03198 \nL 85.243125 429.03198 \nL 89.301307 434.453985 \nL 93.359489 434.453985 \nL 97.41767 434.453985 \nL 101.475852 434.453985 \nL 105.534034 434.453985 \nL 109.592216 434.453985 \nL 113.650398 434.453985 \nL 117.70858 434.453985 \nL 121.766761 434.453985 \nL 125.824943 434.453985 \nL 129.883125 434.453985 \nL 133.941307 434.453985 \nL 137.999489 434.453985 \nL 142.05767 434.453985 \nL 146.115852 434.453985 \nL 150.174034 434.453985 \nL 154.232216 434.453985 \nL 158.290398 434.453985 \nL 162.34858 434.453985 \nL 166.406761 434.453985 \nL 170.464943 434.453985 \nL 174.523125 434.453985 \nL 178.581307 434.453985 \nL 182.639489 434.453985 \nL 186.69767 434.453985 \nL 190.755852 434.453985 \nL 194.814034 434.453985 \nL 198.872216 434.453985 \nL 202.930398 434.453985 \nL 206.98858 434.453985 \nL 211.046761 434.453985 \nL 215.104943 434.453985 \nL 219.163125 434.453985 \nL 223.221307 434.453985 \nL 227.279489 434.453985 \nL 231.33767 434.453985 \nL 235.395852 434.453985 \nL 239.454034 434.453985 \nL 243.512216 434.453985 \nL 247.570398 434.453985 \nL 251.62858 434.453985 \nL 255.686761 434.453985 \nL 259.744943 434.453985 \nL 263.803125 434.453985 \nL 267.861307 434.453985 \nL 271.919489 434.453985 \nL 275.97767 434.453985 \nL 280.035852 439.87599 \nL 284.094034 439.87599 \nL 288.152216 439.87599 \nL 292.210398 439.87599 \nL 296.26858 439.87599 \nL 300.326761 439.87599 \nL 304.384943 439.87599 \nL 308.443125 439.87599 \nL 312.501307 439.87599 \nL 316.559489 439.87599 \nL 320.61767 439.87599 \nL 324.675852 439.87599 \nL 328.734034 439.87599 \nL 332.792216 439.87599 \nL 336.850398 439.87599 \nL 340.90858 439.87599 \nL 344.966761 439.87599 \nL 349.024943 439.87599 \nL 353.083125 439.87599 \nL 357.141307 439.87599 \nL 361.199489 439.87599 \nL 365.25767 439.87599 \nL 369.315852 439.87599 \nL 373.374034 439.87599 \nL 377.432216 439.87599 \nL 381.490398 439.87599 \nL 385.54858 439.87599 \nL 389.606761 439.87599 \nL 393.664943 439.87599 \nL 397.723125 439.87599 \nL 401.781307 439.87599 \nL 405.839489 439.87599 \nL 409.89767 439.87599 \nL 413.955852 439.87599 \nL 418.014034 439.87599 \nL 422.072216 439.87599 \nL 426.130398 439.87599 \nL 430.18858 439.87599 \nL 434.246761 439.87599 \nL 438.304943 439.87599 \nL 442.363125 439.87599 \nL 446.421307 439.87599 \nL 450.479489 439.87599 \nL 454.53767 439.87599 \nL 458.595852 439.87599 \nL 462.654034 439.87599 \nL 466.712216 439.87599 \n\" clip-path=\"url(#pa646b1afa9)\" style=\"fill: none; stroke: #ff7f0e; stroke-width: 1.5; stroke-linecap: square\"/>\n   </g>\n   <g id=\"line2d_33\">\n    <path d=\"M 60.894034 342.279902 \nL 64.952216 65.757653 \nL 69.010398 33.225623 \nL 73.06858 201.307775 \nL 77.126761 33.225623 \nL 81.184943 71.179658 \nL 85.243125 49.491638 \nL 89.301307 71.179658 \nL 93.359489 54.913643 \nL 97.41767 76.601663 \nL 101.475852 71.179658 \nL 105.534034 27.803619 \nL 109.592216 71.179658 \nL 113.650398 82.023667 \nL 117.70858 103.711687 \nL 121.766761 65.757653 \nL 125.824943 92.867677 \nL 129.883125 60.335648 \nL 133.941307 71.179658 \nL 137.999489 60.335648 \nL 142.05767 60.335648 \nL 146.115852 109.133692 \nL 150.174034 54.913643 \nL 154.232216 65.757653 \nL 158.290398 195.88577 \nL 162.34858 92.867677 \nL 166.406761 65.757653 \nL 170.464943 98.289682 \nL 174.523125 103.711687 \nL 178.581307 71.179658 \nL 182.639489 233.839804 \nL 186.69767 92.867677 \nL 190.755852 87.445672 \nL 194.814034 87.445672 \nL 198.872216 98.289682 \nL 202.930398 87.445672 \nL 206.98858 222.995795 \nL 211.046761 239.261809 \nL 215.104943 71.179658 \nL 219.163125 54.913643 \nL 223.221307 244.683814 \nL 227.279489 239.261809 \nL 231.33767 98.289682 \nL 235.395852 233.839804 \nL 239.454034 250.105819 \nL 243.512216 233.839804 \nL 247.570398 233.839804 \nL 251.62858 239.261809 \nL 255.686761 222.995795 \nL 259.744943 92.867677 \nL 263.803125 239.261809 \nL 267.861307 76.601663 \nL 271.919489 228.4178 \nL 275.97767 103.711687 \nL 280.035852 250.105819 \nL 284.094034 222.995795 \nL 288.152216 217.57379 \nL 292.210398 92.867677 \nL 296.26858 239.261809 \nL 300.326761 87.445672 \nL 304.384943 92.867677 \nL 308.443125 98.289682 \nL 312.501307 228.4178 \nL 316.559489 212.151785 \nL 320.61767 87.445672 \nL 324.675852 98.289682 \nL 328.734034 92.867677 \nL 332.792216 109.133692 \nL 336.850398 239.261809 \nL 340.90858 98.289682 \nL 344.966761 82.023667 \nL 349.024943 233.839804 \nL 353.083125 217.57379 \nL 357.141307 250.105819 \nL 361.199489 244.683814 \nL 365.25767 98.289682 \nL 369.315852 244.683814 \nL 373.374034 92.867677 \nL 377.432216 92.867677 \nL 381.490398 228.4178 \nL 385.54858 233.839804 \nL 389.606761 250.105819 \nL 393.664943 239.261809 \nL 397.723125 239.261809 \nL 401.781307 76.601663 \nL 405.839489 54.913643 \nL 409.89767 65.757653 \nL 413.955852 98.289682 \nL 418.014034 222.995795 \nL 422.072216 239.261809 \nL 426.130398 98.289682 \nL 430.18858 103.711687 \nL 434.246761 233.839804 \nL 438.304943 87.445672 \nL 442.363125 239.261809 \nL 446.421307 233.839804 \nL 450.479489 222.995795 \nL 454.53767 244.683814 \nL 458.595852 250.105819 \nL 462.654034 239.261809 \nL 466.712216 250.105819 \n\" clip-path=\"url(#pa646b1afa9)\" style=\"fill: none; stroke: #2ca02c; stroke-width: 1.5; stroke-linecap: square\"/>\n   </g>\n   <g id=\"patch_3\">\n    <path d=\"M 40.603125 450.72 \nL 40.603125 7.2 \n\" style=\"fill: none; stroke: #000000; stroke-width: 0.8; stroke-linejoin: miter; stroke-linecap: square\"/>\n   </g>\n   <g id=\"patch_4\">\n    <path d=\"M 487.003125 450.72 \nL 487.003125 7.2 \n\" style=\"fill: none; stroke: #000000; stroke-width: 0.8; stroke-linejoin: miter; stroke-linecap: square\"/>\n   </g>\n   <g id=\"patch_5\">\n    <path d=\"M 40.603125 450.72 \nL 487.003125 450.72 \n\" style=\"fill: none; stroke: #000000; stroke-width: 0.8; stroke-linejoin: miter; stroke-linecap: square\"/>\n   </g>\n   <g id=\"patch_6\">\n    <path d=\"M 40.603125 7.2 \nL 487.003125 7.2 \n\" style=\"fill: none; stroke: #000000; stroke-width: 0.8; stroke-linejoin: miter; stroke-linecap: square\"/>\n   </g>\n   <g id=\"legend_1\">\n    <g id=\"patch_7\">\n     <path d=\"M 397.61875 59.234375 \nL 480.003125 59.234375 \nQ 482.003125 59.234375 482.003125 57.234375 \nL 482.003125 14.2 \nQ 482.003125 12.2 480.003125 12.2 \nL 397.61875 12.2 \nQ 395.61875 12.2 395.61875 14.2 \nL 395.61875 57.234375 \nQ 395.61875 59.234375 397.61875 59.234375 \nz\n\" style=\"fill: #ffffff; opacity: 0.8; stroke: #cccccc; stroke-linejoin: miter\"/>\n    </g>\n    <g id=\"line2d_34\">\n     <path d=\"M 399.61875 20.298437 \nL 409.61875 20.298437 \nL 419.61875 20.298437 \n\" style=\"fill: none; stroke: #1f77b4; stroke-width: 1.5; stroke-linecap: square\"/>\n    </g>\n    <g id=\"text_18\">\n     <!-- average -->\n     <g transform=\"translate(427.61875 23.798437)scale(0.1 -0.1)\">\n      <defs>\n       <path id=\"DejaVuSans-76\" d=\"M 191 3500 \nL 800 3500 \nL 1894 563 \nL 2988 3500 \nL 3597 3500 \nL 2284 0 \nL 1503 0 \nL 191 3500 \nz\n\" transform=\"scale(0.015625)\"/>\n       <path id=\"DejaVuSans-67\" d=\"M 2906 1791 \nQ 2906 2416 2648 2759 \nQ 2391 3103 1925 3103 \nQ 1463 3103 1205 2759 \nQ 947 2416 947 1791 \nQ 947 1169 1205 825 \nQ 1463 481 1925 481 \nQ 2391 481 2648 825 \nQ 2906 1169 2906 1791 \nz\nM 3481 434 \nQ 3481 -459 3084 -895 \nQ 2688 -1331 1869 -1331 \nQ 1566 -1331 1297 -1286 \nQ 1028 -1241 775 -1147 \nL 775 -588 \nQ 1028 -725 1275 -790 \nQ 1522 -856 1778 -856 \nQ 2344 -856 2625 -561 \nQ 2906 -266 2906 331 \nL 2906 616 \nQ 2728 306 2450 153 \nQ 2172 0 1784 0 \nQ 1141 0 747 490 \nQ 353 981 353 1791 \nQ 353 2603 747 3093 \nQ 1141 3584 1784 3584 \nQ 2172 3584 2450 3431 \nQ 2728 3278 2906 2969 \nL 2906 3500 \nL 3481 3500 \nL 3481 434 \nz\n\" transform=\"scale(0.015625)\"/>\n      </defs>\n      <use xlink:href=\"#DejaVuSans-61\"/>\n      <use xlink:href=\"#DejaVuSans-76\" x=\"61.279297\"/>\n      <use xlink:href=\"#DejaVuSans-65\" x=\"120.458984\"/>\n      <use xlink:href=\"#DejaVuSans-72\" x=\"181.982422\"/>\n      <use xlink:href=\"#DejaVuSans-61\" x=\"223.095703\"/>\n      <use xlink:href=\"#DejaVuSans-67\" x=\"284.375\"/>\n      <use xlink:href=\"#DejaVuSans-65\" x=\"347.851562\"/>\n     </g>\n    </g>\n    <g id=\"line2d_35\">\n     <path d=\"M 399.61875 34.976562 \nL 409.61875 34.976562 \nL 419.61875 34.976562 \n\" style=\"fill: none; stroke: #ff7f0e; stroke-width: 1.5; stroke-linecap: square\"/>\n    </g>\n    <g id=\"text_19\">\n     <!-- minimum -->\n     <g transform=\"translate(427.61875 38.476562)scale(0.1 -0.1)\">\n      <defs>\n       <path id=\"DejaVuSans-6d\" d=\"M 3328 2828 \nQ 3544 3216 3844 3400 \nQ 4144 3584 4550 3584 \nQ 5097 3584 5394 3201 \nQ 5691 2819 5691 2113 \nL 5691 0 \nL 5113 0 \nL 5113 2094 \nQ 5113 2597 4934 2840 \nQ 4756 3084 4391 3084 \nQ 3944 3084 3684 2787 \nQ 3425 2491 3425 1978 \nL 3425 0 \nL 2847 0 \nL 2847 2094 \nQ 2847 2600 2669 2842 \nQ 2491 3084 2119 3084 \nQ 1678 3084 1418 2786 \nQ 1159 2488 1159 1978 \nL 1159 0 \nL 581 0 \nL 581 3500 \nL 1159 3500 \nL 1159 2956 \nQ 1356 3278 1631 3431 \nQ 1906 3584 2284 3584 \nQ 2666 3584 2933 3390 \nQ 3200 3197 3328 2828 \nz\n\" transform=\"scale(0.015625)\"/>\n       <path id=\"DejaVuSans-75\" d=\"M 544 1381 \nL 544 3500 \nL 1119 3500 \nL 1119 1403 \nQ 1119 906 1312 657 \nQ 1506 409 1894 409 \nQ 2359 409 2629 706 \nQ 2900 1003 2900 1516 \nL 2900 3500 \nL 3475 3500 \nL 3475 0 \nL 2900 0 \nL 2900 538 \nQ 2691 219 2414 64 \nQ 2138 -91 1772 -91 \nQ 1169 -91 856 284 \nQ 544 659 544 1381 \nz\nM 1991 3584 \nL 1991 3584 \nz\n\" transform=\"scale(0.015625)\"/>\n      </defs>\n      <use xlink:href=\"#DejaVuSans-6d\"/>\n      <use xlink:href=\"#DejaVuSans-69\" x=\"97.412109\"/>\n      <use xlink:href=\"#DejaVuSans-6e\" x=\"125.195312\"/>\n      <use xlink:href=\"#DejaVuSans-69\" x=\"188.574219\"/>\n      <use xlink:href=\"#DejaVuSans-6d\" x=\"216.357422\"/>\n      <use xlink:href=\"#DejaVuSans-75\" x=\"313.769531\"/>\n      <use xlink:href=\"#DejaVuSans-6d\" x=\"377.148438\"/>\n     </g>\n    </g>\n    <g id=\"line2d_36\">\n     <path d=\"M 399.61875 49.654687 \nL 409.61875 49.654687 \nL 419.61875 49.654687 \n\" style=\"fill: none; stroke: #2ca02c; stroke-width: 1.5; stroke-linecap: square\"/>\n    </g>\n    <g id=\"text_20\">\n     <!-- maximum -->\n     <g transform=\"translate(427.61875 53.154687)scale(0.1 -0.1)\">\n      <defs>\n       <path id=\"DejaVuSans-78\" d=\"M 3513 3500 \nL 2247 1797 \nL 3578 0 \nL 2900 0 \nL 1881 1375 \nL 863 0 \nL 184 0 \nL 1544 1831 \nL 300 3500 \nL 978 3500 \nL 1906 2253 \nL 2834 3500 \nL 3513 3500 \nz\n\" transform=\"scale(0.015625)\"/>\n      </defs>\n      <use xlink:href=\"#DejaVuSans-6d\"/>\n      <use xlink:href=\"#DejaVuSans-61\" x=\"97.412109\"/>\n      <use xlink:href=\"#DejaVuSans-78\" x=\"158.691406\"/>\n      <use xlink:href=\"#DejaVuSans-69\" x=\"217.871094\"/>\n      <use xlink:href=\"#DejaVuSans-6d\" x=\"245.654297\"/>\n      <use xlink:href=\"#DejaVuSans-75\" x=\"343.066406\"/>\n      <use xlink:href=\"#DejaVuSans-6d\" x=\"406.445312\"/>\n     </g>\n    </g>\n   </g>\n  </g>\n </g>\n <defs>\n  <clipPath id=\"pa646b1afa9\">\n   <rect x=\"40.603125\" y=\"7.2\" width=\"446.4\" height=\"443.52\"/>\n  </clipPath>\n </defs>\n</svg>\n",
      "text/plain": [
       "<Figure size 800x800 with 1 Axes>"
      ]
     },
     "metadata": {},
     "output_type": "display_data"
    }
   ],
   "source": [
    "plot_generations(*log1.select(\"gen\",\"avg\",\"min\",\"max\"))\n",
    "plot_generations(*log2.select(\"gen\",\"avg\",\"min\",\"max\"))"
   ]
  },
  {
   "cell_type": "markdown",
   "metadata": {
    "colab_type": "text",
    "id": "t6PFTvUZVOUN"
   },
   "source": [
    "### 5 pts:  Print out the best individual found and its fitness value.  Show the best individual as chessboard"
   ]
  },
  {
   "cell_type": "code",
   "execution_count": null,
   "metadata": {
    "colab": {},
    "colab_type": "code",
    "id": "-MeBQ0BZVOUO"
   },
   "outputs": [],
   "source": [
    "\n",
    "\n",
    "\n",
    "\n",
    "\n",
    "\n",
    "\n",
    "\n",
    "\n",
    "\n",
    "\n",
    "\n",
    "\n",
    "\n"
   ]
  },
  {
   "cell_type": "markdown",
   "metadata": {
    "colab_type": "text",
    "id": "_PCJJdWAVOUP"
   },
   "source": [
    "## Part II: Row-index-based board representation"
   ]
  },
  {
   "cell_type": "code",
   "execution_count": null,
   "metadata": {
    "colab": {},
    "colab_type": "code",
    "id": "BF0R7swEVOUQ"
   },
   "outputs": [],
   "source": [
    "import random\n",
    "import numpy as np\n",
    "from deap import algorithms, base, creator, tools\n",
    "\n",
    "creator.create(\"FitnessMin\", base.Fitness, weights=(-1.0,))\n",
    "creator.create(\"Individual\", list, fitness=creator.FitnessMin)\n"
   ]
  },
  {
   "cell_type": "markdown",
   "metadata": {
    "colab_type": "text",
    "id": "YCwVbnHrVOUS"
   },
   "source": [
    "Each row of the chess row is indexed from 0->7 . we place different queens on different rows initially.  The sequence [ a b c d .... ] means that in $0^{th}$ row, $a^{th}$ column, the queen is present and so on"
   ]
  },
  {
   "cell_type": "code",
   "execution_count": null,
   "metadata": {
    "colab": {},
    "colab_type": "code",
    "id": "n4II9oePVOUS"
   },
   "outputs": [],
   "source": [
    "toolbox = base.Toolbox()\n",
    "\n",
    "toolbox.register(\"attr_int\", random.randint, 0, 7)\n",
    "toolbox.register(\"individual\", tools.initRepeat, creator.Individual,\n",
    "                 toolbox.attr_int, n=8)"
   ]
  },
  {
   "cell_type": "code",
   "execution_count": null,
   "metadata": {
    "colab": {},
    "colab_type": "code",
    "id": "W-tn8be2VOUU"
   },
   "outputs": [],
   "source": [
    "toolbox.individual()"
   ]
  },
  {
   "cell_type": "code",
   "execution_count": null,
   "metadata": {
    "colab": {},
    "colab_type": "code",
    "id": "97EqErd3VOUX"
   },
   "outputs": [],
   "source": [
    "def show_grid(board):\n",
    "    \n",
    "    n = [0]*64\n",
    "    \n",
    "    for i in range(len(board)):\n",
    "        n[board[i] + i*8] = 1\n",
    "      \n",
    "    \n",
    "    for i in range(8):\n",
    "        for j in range(64):\n",
    "            if j // 8 == i:\n",
    "                if n[j] == 1:\n",
    "                    print('X',end=\"|\")\n",
    "                else:\n",
    "                    print('-',end=\"|\")\n",
    "        print()\n",
    "        print(\"----------------\")\n"
   ]
  },
  {
   "cell_type": "code",
   "execution_count": null,
   "metadata": {
    "colab": {},
    "colab_type": "code",
    "id": "UxkDfoxbVOUb"
   },
   "outputs": [],
   "source": [
    "toolbox.register(\"population\", tools.initRepeat, list, toolbox.individual)"
   ]
  },
  {
   "cell_type": "code",
   "execution_count": null,
   "metadata": {
    "colab": {},
    "colab_type": "code",
    "id": "lcY06x24VOUe"
   },
   "outputs": [],
   "source": [
    "pop = toolbox.population(n=5)\n",
    "\n",
    "print(pop[0])"
   ]
  },
  {
   "cell_type": "code",
   "execution_count": null,
   "metadata": {
    "colab": {},
    "colab_type": "code",
    "id": "KYoqKKm8VOUg"
   },
   "outputs": [],
   "source": [
    "show_grid(pop[0])"
   ]
  },
  {
   "cell_type": "markdown",
   "metadata": {
    "colab_type": "text",
    "id": "6_wZvS3mVOUh"
   },
   "source": [
    "### 10 pts:  Write your code in the cell below to define the \"evaFitness\" function, which return the fitness of any given board\n",
    "\n",
    "- evaFitness() returns the total number of distinct pairs of queens that attack each other.  \n",
    "\n",
    "- The following are some test cases you may use to verify the correctness of the evaFitness() function:\n",
    "\n",
    " * evaFitness([0, 2, 6, 7, 7, 4, 1, 6]) should return (4,)\n",
    "\n",
    " * evaFitness([7, 5, 2, 4, 3, 1, 3, 5]) should return (6,)\n",
    "\n",
    " * evaFitness([3, 1, 6, 0, 5, 7, 2, 1]) should return (5,)\n",
    "\n",
    " * evaFitness([7, 3, 1, 4, 5, 1, 3, 5]) should return (6,)\n",
    "\n"
   ]
  },
  {
   "cell_type": "code",
   "execution_count": 26,
   "metadata": {},
   "outputs": [
    {
     "data": {
      "text/plain": [
       "6"
      ]
     },
     "execution_count": 26,
     "metadata": {},
     "output_type": "execute_result"
    }
   ],
   "source": [
    "#fitness function\n",
    "def temp(chromosome):\n",
    "    \n",
    "    \n",
    "    clashes = 0;\n",
    "    # calculate row and column clashes\n",
    "    # just subtract the unique length of array from total length of array\n",
    "    # [1,1,1,2,2,2] - [1,2] => 4 clashes\n",
    "    row_col_clashes = abs(len(chromosome) - len(np.unique(chromosome)))\n",
    "    clashes += row_col_clashes\n",
    "\n",
    "    # calculate diagonal clashes\n",
    "    for i in range(len(chromosome)):\n",
    "        for j in range(i,len(chromosome)):\n",
    "            if ( i != j):\n",
    "                dx = abs(i-j)\n",
    "                dy = abs(chromosome[i] - chromosome[j])\n",
    "                if(dx == dy):\n",
    "                    clashes += 1\n",
    "\n",
    "    return clashes\n",
    "\n",
    "temp([7, 3, 1, 4, 5, 1, 3, 5])"
   ]
  },
  {
   "cell_type": "code",
   "execution_count": null,
   "metadata": {
    "colab": {},
    "colab_type": "code",
    "id": "bk1Rn57oVOUi"
   },
   "outputs": [],
   "source": [
    "#fitness function\n",
    "def evaFitness(individual):\n",
    "    \n",
    "    conflict = 0\n",
    "    clashes = 0;\n",
    "    # calculate row and column clashes\n",
    "    # just subtract the unique length of array from total length of array\n",
    "    # [1,1,1,2,2,2] - [1,2] => 4 clashes\n",
    "    row_col_clashes = abs(len(chromosome) - len(np.unique(chromosome)))\n",
    "    clashes += row_col_clashes\n",
    "\n",
    "    # calculate diagonal clashes\n",
    "    for i in range(len(chromosome)):\n",
    "        for j in range(len(chromosome)):\n",
    "            if ( i != j):\n",
    "                dx = abs(i-j)\n",
    "                dy = abs(chromosome[i] - chromosome[j])\n",
    "                if(dx == dy):\n",
    "                    clashes += 1\n",
    "\n",
    "    return (conflict,)\n",
    "\n",
    "\n",
    "\n",
    "    \n",
    " \n",
    "    "
   ]
  },
  {
   "cell_type": "markdown",
   "metadata": {
    "colab_type": "text",
    "id": "MLkixA1YVOUj"
   },
   "source": [
    "### 5 pts:  Writer your code in the cell below to register \"evaluate\" function to toolbox"
   ]
  },
  {
   "cell_type": "code",
   "execution_count": null,
   "metadata": {
    "colab": {},
    "colab_type": "code",
    "id": "TMwldAeuVOUk"
   },
   "outputs": [],
   "source": [
    "\n",
    "\n",
    "\n",
    "\n",
    "\n",
    "\n",
    "\n",
    "\n"
   ]
  },
  {
   "cell_type": "code",
   "execution_count": null,
   "metadata": {
    "colab": {},
    "colab_type": "code",
    "id": "O-xOKMI4VOUl"
   },
   "outputs": [],
   "source": [
    "\n",
    "toolbox.register(\"mate\", tools.cxTwoPoint)\n",
    "\n",
    "toolbox.register(\"mutate\", tools.mutUniformInt, low = 0, up = 7, indpb=0.1)\n",
    "\n",
    "toolbox.register(\"select\", tools.selTournament, tournsize=3)\n",
    "\n"
   ]
  },
  {
   "cell_type": "code",
   "execution_count": null,
   "metadata": {
    "colab": {},
    "colab_type": "code",
    "id": "R1jlpMTNVOUn"
   },
   "outputs": [],
   "source": [
    "stats = tools.Statistics(key=lambda ind: ind.fitness.values)\n",
    "\n",
    "\n",
    "stats.register(\"avg\", np.mean)\n",
    "stats.register(\"min\", np.min)\n",
    "\n"
   ]
  },
  {
   "cell_type": "markdown",
   "metadata": {
    "colab_type": "text",
    "id": "pyRth-sHVOUq"
   },
   "source": [
    "### 10 pts:  Writer your code in the cell below to create the first generation, the hall of fame, and launch the genetic algorithm: eaSimple().   How many individuals you want to have for each generation and how many generations you want GA to go thourgh for each run?     Vary those two parameters to see the change. "
   ]
  },
  {
   "cell_type": "code",
   "execution_count": null,
   "metadata": {
    "colab": {},
    "colab_type": "code",
    "id": "3aJJcDUVVOUq"
   },
   "outputs": [],
   "source": [
    "\n",
    "\n",
    "\n",
    "\n",
    "\n",
    "\n",
    "\n",
    "\n",
    "\n",
    "\n",
    "\n",
    "\n",
    "\n"
   ]
  },
  {
   "cell_type": "markdown",
   "metadata": {
    "colab_type": "text",
    "id": "xrJfr0ePVOUs"
   },
   "source": [
    "### 5 pts:  Plot the \"avg\" and \"min\" for each generation"
   ]
  },
  {
   "cell_type": "code",
   "execution_count": null,
   "metadata": {
    "colab": {},
    "colab_type": "code",
    "id": "LJyAUq4WVOUs"
   },
   "outputs": [],
   "source": [
    "# Plot the \"avg\" and \"min\" for each generation\n",
    "\n",
    "import matplotlib.pyplot as plt\n",
    "%matplotlib inline  \n",
    "\n",
    "\n",
    "\n",
    "\n",
    "\n",
    "\n",
    "\n",
    "\n"
   ]
  },
  {
   "cell_type": "markdown",
   "metadata": {
    "colab_type": "text",
    "id": "ry6HXqIMVOUv"
   },
   "source": [
    "### 5 pts:  Print out the best individual found and its fitness value.  Show the best individual as chessboard"
   ]
  },
  {
   "cell_type": "code",
   "execution_count": null,
   "metadata": {
    "colab": {},
    "colab_type": "code",
    "id": "PkC9uOqCVOUv"
   },
   "outputs": [],
   "source": [
    "\n",
    "\n",
    "\n",
    "\n",
    "\n",
    "\n",
    "\n",
    "\n",
    "\n",
    "\n",
    "\n",
    "\n",
    "\n",
    "\n",
    "\n",
    "\n"
   ]
  },
  {
   "cell_type": "markdown",
   "metadata": {
    "colab_type": "text",
    "id": "qhba2jQ1VOUw"
   },
   "source": [
    "### Reflection:  Which board representaion is better in terms of ease of coding and final solution quality?   Try different parameter values for mutation and crossover and vary the number of generations and the population size.  Write your findings in the report.        "
   ]
  }
 ],
 "metadata": {
  "colab": {
   "collapsed_sections": [],
   "name": "DEAP n queens_on-canvas.ipynb",
   "provenance": [],
   "toc_visible": true,
   "version": "0.3.2"
  },
  "kernelspec": {
   "display_name": "Python 3.10.5 64-bit",
   "language": "python",
   "name": "python3"
  },
  "language_info": {
   "codemirror_mode": {
    "name": "ipython",
    "version": 3
   },
   "file_extension": ".py",
   "mimetype": "text/x-python",
   "name": "python",
   "nbconvert_exporter": "python",
   "pygments_lexer": "ipython3",
   "version": "3.10.5"
  },
  "vscode": {
   "interpreter": {
    "hash": "34b3194b5c5d74b2e26264b6b8b35f7946303e77a7dd23c23e6e62be037c5f96"
   }
  }
 },
 "nbformat": 4,
 "nbformat_minor": 2
}
