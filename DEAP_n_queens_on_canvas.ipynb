{
 "cells": [
  {
   "cell_type": "markdown",
   "metadata": {
    "colab_type": "text",
    "id": "GxGA1SMjVOTm"
   },
   "source": [
    "## Project 4:  Solving N-Queens Problem using Genetic Algorithms\n",
    "\n",
    "#### CSC 180  Intelligent Systems\n",
    "\n",
    "#### Dr. Haiquan Chen, California State University, Sacramento\n"
   ]
  },
  {
   "cell_type": "code",
   "execution_count": 2,
   "metadata": {},
   "outputs": [],
   "source": [
    "#NAME: Rojan Maharjan\n",
    "#ID: 301855982\n",
    "#Course Title: CSC180\n",
    "#Assignment ID: Project 4\n",
    "#Due date: Nov 18 by 10 AM\n",
    "\n"
   ]
  },
  {
   "cell_type": "markdown",
   "metadata": {
    "colab_type": "text",
    "id": "HibX8kusV5PD"
   },
   "source": [
    "\n",
    "## Part I: Position-index-based board representation"
   ]
  },
  {
   "cell_type": "code",
   "execution_count": null,
   "metadata": {
    "colab": {},
    "colab_type": "code",
    "id": "LcEVm7paVOTo"
   },
   "outputs": [],
   "source": [
    "import random\n",
    "import numpy as np\n",
    "from deap import algorithms, base, creator, tools\n",
    "\n",
    "creator.create(\"FitnessMin\", base.Fitness, weights=(-1.0,))\n",
    "creator.create(\"Individual\", list, fitness=creator.FitnessMin)\n"
   ]
  },
  {
   "cell_type": "code",
   "execution_count": null,
   "metadata": {
    "colab": {},
    "colab_type": "code",
    "id": "AjYwh9eYVOTt"
   },
   "outputs": [],
   "source": [
    "def create_individual():\n",
    "    return random.sample(range(64), 8)"
   ]
  },
  {
   "cell_type": "code",
   "execution_count": null,
   "metadata": {
    "colab": {},
    "colab_type": "code",
    "id": "V3rgKtu_VOTv"
   },
   "outputs": [],
   "source": [
    "print(create_individual())"
   ]
  },
  {
   "cell_type": "code",
   "execution_count": null,
   "metadata": {
    "colab": {},
    "colab_type": "code",
    "id": "ekoiWdxDVOTy"
   },
   "outputs": [],
   "source": [
    "def show_grid(board):\n",
    "    \n",
    "    n = [0]*64\n",
    "    for i in board:\n",
    "        n[i] = 1\n",
    "    \n",
    "    \n",
    "    for i in range(8):\n",
    "        for j in range(64):\n",
    "            if j // 8 == i:\n",
    "                if n[j] == 1:\n",
    "                    print('X',end=\"|\")\n",
    "                else:\n",
    "                    print('-',end=\"|\")\n",
    "        print()\n",
    "        print(\"----------------\")\n"
   ]
  },
  {
   "cell_type": "code",
   "execution_count": null,
   "metadata": {
    "colab": {},
    "colab_type": "code",
    "id": "N8XtgeUKVOT0"
   },
   "outputs": [],
   "source": [
    "toolbox = base.Toolbox()\n",
    "\n",
    "toolbox.register(\"individual\", tools.initIterate, creator.Individual, create_individual)\n",
    "\n",
    "toolbox.register(\"population\", tools.initRepeat, list, toolbox.individual)"
   ]
  },
  {
   "cell_type": "code",
   "execution_count": null,
   "metadata": {
    "colab": {},
    "colab_type": "code",
    "id": "YTk0VOT-VOT3"
   },
   "outputs": [],
   "source": [
    "pop = toolbox.population(n=5)\n",
    "\n",
    "print(pop[0])"
   ]
  },
  {
   "cell_type": "code",
   "execution_count": null,
   "metadata": {
    "colab": {},
    "colab_type": "code",
    "id": "letgI4JkVOT6"
   },
   "outputs": [],
   "source": [
    "show_grid(pop[0])"
   ]
  },
  {
   "cell_type": "markdown",
   "metadata": {
    "colab_type": "text",
    "id": "qzj4Y0L5VOT8"
   },
   "source": [
    "### 10 pts:  Write your code in the cell below to define the \"evaFitness\" function, which returns the fitness of any given board.  \n",
    "\n",
    "- Noticed that in this case, mutation may generate invalid board, e.g., the board with dupliciate positions.  Think about   [5, 32, 8, 8, 41, 3, 55, 49]\n",
    "\n",
    "- How to exclude those invalid boards from each generation? One way is to add some penalty to the fitness value of invalid boards.  In that case, any invalid board will have a very high fitness value (remember that our goal is to find the board with least fitness value).    To do that, let's write a function ***checkDuplicate()*** to calculate the number of queen pairs in the same position for any given board.   ***Give each duplicate a high penalty (i.e., multiply by 20, 50) and add the penalty to the fitness value.*** \n",
    "\n",
    "-  evaFitness() returns the total number of duplicate position pair (with penalty) plus the total number of distinct pairs of queens that attack each other.  "
   ]
  },
  {
   "cell_type": "code",
   "execution_count": null,
   "metadata": {
    "colab": {},
    "colab_type": "code",
    "id": "ZTHRSMRMVOT8"
   },
   "outputs": [],
   "source": [
    "#fitness function\n",
    "def evaFitness(individual):\n",
    "    \n",
    "    conflict = 0\n",
    "    \n",
    "\n",
    "    \n",
    "    \n",
    "    \n",
    "    \n",
    "    \n",
    "    \n",
    "    \n",
    "    \n",
    "    \n",
    "    return (checkDuplicate(individual) + conflict,)\n",
    "    \n",
    "\n",
    "    \n",
    "    \n",
    "\n",
    "    \n",
    "    \n",
    "    \n",
    "    \n",
    "\n",
    "    \n",
    "    \n",
    "# Calculate the number of queen pairs in the same position for any given board\n",
    "def checkDuplicate(individual):\n",
    "    dup = 0\n",
    "\n",
    "  \n",
    "\n",
    "    \n",
    "    \n",
    "    \n",
    "    \n",
    "    return dup\n",
    "    \n",
    "    "
   ]
  },
  {
   "cell_type": "markdown",
   "metadata": {
    "colab_type": "text",
    "id": "tikbcB_kVOT-"
   },
   "source": [
    "### 5 pts:  Writer your code in the cell below to register \"evaluate\" function to toolbox"
   ]
  },
  {
   "cell_type": "code",
   "execution_count": null,
   "metadata": {
    "colab": {},
    "colab_type": "code",
    "id": "bMjmesXqVOT_"
   },
   "outputs": [],
   "source": [
    "\n",
    "\n",
    "\n",
    "\n",
    "\n",
    "\n"
   ]
  },
  {
   "cell_type": "code",
   "execution_count": null,
   "metadata": {
    "colab": {},
    "colab_type": "code",
    "id": "_eDjyzBlVOUB"
   },
   "outputs": [],
   "source": [
    "toolbox.register(\"mate\", tools.cxTwoPoint)\n",
    "\n",
    "toolbox.register(\"mutate\", tools.mutUniformInt, low = 0, up = 63, indpb=0.1)\n",
    "\n",
    "toolbox.register(\"select\", tools.selTournament, tournsize=3)"
   ]
  },
  {
   "cell_type": "code",
   "execution_count": null,
   "metadata": {
    "colab": {},
    "colab_type": "code",
    "id": "6uej76HoVOUD"
   },
   "outputs": [],
   "source": [
    "stats = tools.Statistics(key=lambda ind: ind.fitness.values)"
   ]
  },
  {
   "cell_type": "code",
   "execution_count": null,
   "metadata": {
    "colab": {},
    "colab_type": "code",
    "id": "W8cWVXmxVOUH"
   },
   "outputs": [],
   "source": [
    "stats.register(\"avg\", np.mean)\n",
    "stats.register(\"min\", np.min)"
   ]
  },
  {
   "cell_type": "markdown",
   "metadata": {
    "colab_type": "text",
    "id": "OmnhqV_MVOUJ"
   },
   "source": [
    "### 10 pts:  Writer your code in the cell below to create the first generation, the hall of fame, and launch the genetic algorithm: eaSimple().   How many individuals you want to have for each generation and how many generations you want GA to go thourgh for each run?     Vary those two parameters to see the change. "
   ]
  },
  {
   "cell_type": "code",
   "execution_count": null,
   "metadata": {
    "colab": {},
    "colab_type": "code",
    "id": "SsTaPuPgVOUK"
   },
   "outputs": [],
   "source": [
    "\n",
    "\n",
    "\n",
    "\n",
    "\n",
    "\n",
    "\n",
    "\n",
    "\n",
    "\n",
    "\n",
    "\n",
    "\n"
   ]
  },
  {
   "cell_type": "markdown",
   "metadata": {
    "colab_type": "text",
    "id": "OkApdsjQVOUL"
   },
   "source": [
    "### 5 pts:  Plot the \"avg\" and \"min\" for each generation"
   ]
  },
  {
   "cell_type": "code",
   "execution_count": null,
   "metadata": {
    "colab": {},
    "colab_type": "code",
    "id": "gcFc3eOyVOUM",
    "scrolled": true
   },
   "outputs": [],
   "source": [
    "import matplotlib.pyplot as plt\n",
    "%matplotlib inline  \n",
    "\n",
    "\n",
    "\n",
    "\n",
    "\n",
    "\n",
    "\n",
    "\n",
    "\n"
   ]
  },
  {
   "cell_type": "markdown",
   "metadata": {
    "colab_type": "text",
    "id": "t6PFTvUZVOUN"
   },
   "source": [
    "### 5 pts:  Print out the best individual found and its fitness value.  Show the best individual as chessboard"
   ]
  },
  {
   "cell_type": "code",
   "execution_count": null,
   "metadata": {
    "colab": {},
    "colab_type": "code",
    "id": "-MeBQ0BZVOUO"
   },
   "outputs": [],
   "source": [
    "\n",
    "\n",
    "\n",
    "\n",
    "\n",
    "\n",
    "\n",
    "\n",
    "\n",
    "\n",
    "\n",
    "\n",
    "\n",
    "\n"
   ]
  },
  {
   "cell_type": "markdown",
   "metadata": {
    "colab_type": "text",
    "id": "_PCJJdWAVOUP"
   },
   "source": [
    "## Part II: Row-index-based board representation"
   ]
  },
  {
   "cell_type": "code",
   "execution_count": null,
   "metadata": {
    "colab": {},
    "colab_type": "code",
    "id": "BF0R7swEVOUQ"
   },
   "outputs": [],
   "source": [
    "import random\n",
    "import numpy as np\n",
    "from deap import algorithms, base, creator, tools\n",
    "\n",
    "creator.create(\"FitnessMin\", base.Fitness, weights=(-1.0,))\n",
    "creator.create(\"Individual\", list, fitness=creator.FitnessMin)\n"
   ]
  },
  {
   "cell_type": "markdown",
   "metadata": {
    "colab_type": "text",
    "id": "YCwVbnHrVOUS"
   },
   "source": [
    "Each row of the chess row is indexed from 0->7 . we place different queens on different rows initially.  The sequence [ a b c d .... ] means that in $0^{th}$ row, $a^{th}$ column, the queen is present and so on"
   ]
  },
  {
   "cell_type": "code",
   "execution_count": null,
   "metadata": {
    "colab": {},
    "colab_type": "code",
    "id": "n4II9oePVOUS"
   },
   "outputs": [],
   "source": [
    "toolbox = base.Toolbox()\n",
    "\n",
    "toolbox.register(\"attr_int\", random.randint, 0, 7)\n",
    "toolbox.register(\"individual\", tools.initRepeat, creator.Individual,\n",
    "                 toolbox.attr_int, n=8)"
   ]
  },
  {
   "cell_type": "code",
   "execution_count": null,
   "metadata": {
    "colab": {},
    "colab_type": "code",
    "id": "W-tn8be2VOUU"
   },
   "outputs": [],
   "source": [
    "toolbox.individual()"
   ]
  },
  {
   "cell_type": "code",
   "execution_count": null,
   "metadata": {
    "colab": {},
    "colab_type": "code",
    "id": "97EqErd3VOUX"
   },
   "outputs": [],
   "source": [
    "def show_grid(board):\n",
    "    \n",
    "    n = [0]*64\n",
    "    \n",
    "    for i in range(len(board)):\n",
    "        n[board[i] + i*8] = 1\n",
    "      \n",
    "    \n",
    "    for i in range(8):\n",
    "        for j in range(64):\n",
    "            if j // 8 == i:\n",
    "                if n[j] == 1:\n",
    "                    print('X',end=\"|\")\n",
    "                else:\n",
    "                    print('-',end=\"|\")\n",
    "        print()\n",
    "        print(\"----------------\")\n"
   ]
  },
  {
   "cell_type": "code",
   "execution_count": null,
   "metadata": {
    "colab": {},
    "colab_type": "code",
    "id": "UxkDfoxbVOUb"
   },
   "outputs": [],
   "source": [
    "toolbox.register(\"population\", tools.initRepeat, list, toolbox.individual)"
   ]
  },
  {
   "cell_type": "code",
   "execution_count": null,
   "metadata": {
    "colab": {},
    "colab_type": "code",
    "id": "lcY06x24VOUe"
   },
   "outputs": [],
   "source": [
    "pop = toolbox.population(n=5)\n",
    "\n",
    "print(pop[0])"
   ]
  },
  {
   "cell_type": "code",
   "execution_count": null,
   "metadata": {
    "colab": {},
    "colab_type": "code",
    "id": "KYoqKKm8VOUg"
   },
   "outputs": [],
   "source": [
    "show_grid(pop[0])"
   ]
  },
  {
   "cell_type": "markdown",
   "metadata": {
    "colab_type": "text",
    "id": "6_wZvS3mVOUh"
   },
   "source": [
    "### 10 pts:  Write your code in the cell below to define the \"evaFitness\" function, which return the fitness of any given board\n",
    "\n",
    "- evaFitness() returns the total number of distinct pairs of queens that attack each other.  \n",
    "\n",
    "- The following are some test cases you may use to verify the correctness of the evaFitness() function:\n",
    "\n",
    " * evaFitness([0, 2, 6, 7, 7, 4, 1, 6]) should return (4,)\n",
    "\n",
    " * evaFitness([7, 5, 2, 4, 3, 1, 3, 5]) should return (6,)\n",
    "\n",
    " * evaFitness([3, 1, 6, 0, 5, 7, 2, 1]) should return (5,)\n",
    "\n",
    " * evaFitness([7, 3, 1, 4, 5, 1, 3, 5]) should return (6,)\n",
    "\n"
   ]
  },
  {
   "cell_type": "code",
   "execution_count": null,
   "metadata": {
    "colab": {},
    "colab_type": "code",
    "id": "bk1Rn57oVOUi"
   },
   "outputs": [],
   "source": [
    "#fitness function\n",
    "def evaFitness(individual):\n",
    "    \n",
    "    conflict = 0\n",
    "    \n",
    "\n",
    "    \n",
    "    \n",
    "    \n",
    "    \n",
    "    \n",
    "    \n",
    "    \n",
    "    \n",
    "    return (conflict,)\n",
    "\n",
    "\n",
    "\n",
    "    \n",
    " \n",
    "    "
   ]
  },
  {
   "cell_type": "markdown",
   "metadata": {
    "colab_type": "text",
    "id": "MLkixA1YVOUj"
   },
   "source": [
    "### 5 pts:  Writer your code in the cell below to register \"evaluate\" function to toolbox"
   ]
  },
  {
   "cell_type": "code",
   "execution_count": null,
   "metadata": {
    "colab": {},
    "colab_type": "code",
    "id": "TMwldAeuVOUk"
   },
   "outputs": [],
   "source": [
    "\n",
    "\n",
    "\n",
    "\n",
    "\n",
    "\n",
    "\n",
    "\n"
   ]
  },
  {
   "cell_type": "code",
   "execution_count": null,
   "metadata": {
    "colab": {},
    "colab_type": "code",
    "id": "O-xOKMI4VOUl"
   },
   "outputs": [],
   "source": [
    "\n",
    "toolbox.register(\"mate\", tools.cxTwoPoint)\n",
    "\n",
    "toolbox.register(\"mutate\", tools.mutUniformInt, low = 0, up = 7, indpb=0.1)\n",
    "\n",
    "toolbox.register(\"select\", tools.selTournament, tournsize=3)\n",
    "\n"
   ]
  },
  {
   "cell_type": "code",
   "execution_count": null,
   "metadata": {
    "colab": {},
    "colab_type": "code",
    "id": "R1jlpMTNVOUn"
   },
   "outputs": [],
   "source": [
    "stats = tools.Statistics(key=lambda ind: ind.fitness.values)\n",
    "\n",
    "\n",
    "stats.register(\"avg\", np.mean)\n",
    "stats.register(\"min\", np.min)\n",
    "\n"
   ]
  },
  {
   "cell_type": "markdown",
   "metadata": {
    "colab_type": "text",
    "id": "pyRth-sHVOUq"
   },
   "source": [
    "### 10 pts:  Writer your code in the cell below to create the first generation, the hall of fame, and launch the genetic algorithm: eaSimple().   How many individuals you want to have for each generation and how many generations you want GA to go thourgh for each run?     Vary those two parameters to see the change. "
   ]
  },
  {
   "cell_type": "code",
   "execution_count": null,
   "metadata": {
    "colab": {},
    "colab_type": "code",
    "id": "3aJJcDUVVOUq"
   },
   "outputs": [],
   "source": [
    "\n",
    "\n",
    "\n",
    "\n",
    "\n",
    "\n",
    "\n",
    "\n",
    "\n",
    "\n",
    "\n",
    "\n",
    "\n"
   ]
  },
  {
   "cell_type": "markdown",
   "metadata": {
    "colab_type": "text",
    "id": "xrJfr0ePVOUs"
   },
   "source": [
    "### 5 pts:  Plot the \"avg\" and \"min\" for each generation"
   ]
  },
  {
   "cell_type": "code",
   "execution_count": null,
   "metadata": {
    "colab": {},
    "colab_type": "code",
    "id": "LJyAUq4WVOUs"
   },
   "outputs": [],
   "source": [
    "# Plot the \"avg\" and \"min\" for each generation\n",
    "\n",
    "import matplotlib.pyplot as plt\n",
    "%matplotlib inline  \n",
    "\n",
    "\n",
    "\n",
    "\n",
    "\n",
    "\n",
    "\n",
    "\n"
   ]
  },
  {
   "cell_type": "markdown",
   "metadata": {
    "colab_type": "text",
    "id": "ry6HXqIMVOUv"
   },
   "source": [
    "### 5 pts:  Print out the best individual found and its fitness value.  Show the best individual as chessboard"
   ]
  },
  {
   "cell_type": "code",
   "execution_count": null,
   "metadata": {
    "colab": {},
    "colab_type": "code",
    "id": "PkC9uOqCVOUv"
   },
   "outputs": [],
   "source": [
    "\n",
    "\n",
    "\n",
    "\n",
    "\n",
    "\n",
    "\n",
    "\n",
    "\n",
    "\n",
    "\n",
    "\n",
    "\n",
    "\n",
    "\n",
    "\n"
   ]
  },
  {
   "cell_type": "markdown",
   "metadata": {
    "colab_type": "text",
    "id": "qhba2jQ1VOUw"
   },
   "source": [
    "### Reflection:  Which board representaion is better in terms of ease of coding and final solution quality?   Try different parameter values for mutation and crossover and vary the number of generations and the population size.  Write your findings in the report.        "
   ]
  }
 ],
 "metadata": {
  "colab": {
   "collapsed_sections": [],
   "name": "DEAP n queens_on-canvas.ipynb",
   "provenance": [],
   "toc_visible": true,
   "version": "0.3.2"
  },
  "kernelspec": {
   "display_name": "Python 3",
   "language": "python",
   "name": "python3"
  },
  "language_info": {
   "codemirror_mode": {
    "name": "ipython",
    "version": 3
   },
   "file_extension": ".py",
   "mimetype": "text/x-python",
   "name": "python",
   "nbconvert_exporter": "python",
   "pygments_lexer": "ipython3",
   "version": "3.7.6"
  }
 },
 "nbformat": 4,
 "nbformat_minor": 2
}
